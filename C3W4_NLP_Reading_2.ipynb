{
  "nbformat": 4,
  "nbformat_minor": 0,
  "metadata": {
    "colab": {
      "name": "C3W4_NLP_Reading_2.ipynb",
      "provenance": [],
      "collapsed_sections": [],
      "authorship_tag": "ABX9TyNMKaIOpZ8282bre/0/65OJ",
      "include_colab_link": true
    },
    "kernelspec": {
      "name": "python3",
      "display_name": "Python 3"
    },
    "accelerator": "GPU"
  },
  "cells": [
    {
      "cell_type": "markdown",
      "metadata": {
        "id": "view-in-github",
        "colab_type": "text"
      },
      "source": [
        "<a href=\"https://colab.research.google.com/github/ssawant/TensorFlow-in-Practice/blob/main/C3W4_NLP_Reading_2.ipynb\" target=\"_parent\"><img src=\"https://colab.research.google.com/assets/colab-badge.svg\" alt=\"Open In Colab\"/></a>"
      ]
    },
    {
      "cell_type": "code",
      "metadata": {
        "colab": {
          "base_uri": "https://localhost:8080/"
        },
        "id": "WWKtNW1_1blV",
        "outputId": "3db13e09-a917-467e-be50-92910bbd7b44"
      },
      "source": [
        "import tensorflow as tf\n",
        "print(tf.__version__)"
      ],
      "execution_count": 2,
      "outputs": [
        {
          "output_type": "stream",
          "text": [
            "2.4.0\n"
          ],
          "name": "stdout"
        }
      ]
    },
    {
      "cell_type": "code",
      "metadata": {
        "colab": {
          "base_uri": "https://localhost:8080/"
        },
        "id": "dT9eEN0c2KLO",
        "outputId": "b231052c-1ed6-4385-a2fb-c60b83738281"
      },
      "source": [
        "!wget --no-check-certificate \\\n",
        "    https://storage.googleapis.com/laurencemoroney-blog.appspot.com/irish-lyrics-eof.txt \\\n",
        "    -O /tmp/irish-lyrics-eof.txt"
      ],
      "execution_count": 3,
      "outputs": [
        {
          "output_type": "stream",
          "text": [
            "--2020-12-27 12:01:23--  https://storage.googleapis.com/laurencemoroney-blog.appspot.com/irish-lyrics-eof.txt\n",
            "Resolving storage.googleapis.com (storage.googleapis.com)... 172.217.12.240, 172.217.5.240, 172.217.164.176, ...\n",
            "Connecting to storage.googleapis.com (storage.googleapis.com)|172.217.12.240|:443... connected.\n",
            "HTTP request sent, awaiting response... 200 OK\n",
            "Length: 68970 (67K) [text/plain]\n",
            "Saving to: ‘/tmp/irish-lyrics-eof.txt’\n",
            "\n",
            "/tmp/irish-lyrics-e 100%[===================>]  67.35K  --.-KB/s    in 0.001s  \n",
            "\n",
            "2020-12-27 12:01:23 (106 MB/s) - ‘/tmp/irish-lyrics-eof.txt’ saved [68970/68970]\n",
            "\n"
          ],
          "name": "stdout"
        }
      ]
    },
    {
      "cell_type": "code",
      "metadata": {
        "id": "UCVPeoS72QNH"
      },
      "source": [
        "from tensorflow.keras.preprocessing.sequence import pad_sequences\n",
        "from tensorflow.keras.layers import Embedding, Bidirectional, Dense, LSTM\n",
        "from tensorflow.keras.preprocessing.text import Tokenizer\n",
        "from tensorflow.keras.models import Sequential\n",
        "from tensorflow.keras.optimizers import Adam\n",
        "import numpy as np"
      ],
      "execution_count": 4,
      "outputs": []
    },
    {
      "cell_type": "code",
      "metadata": {
        "id": "Nn744cL_2qVg"
      },
      "source": [
        "tokenizer = Tokenizer()\n",
        "\n",
        "data = open('/tmp/irish-lyrics-eof.txt').read()\n",
        "\n",
        "corpus = data.lower().split(\"\\n\")\n",
        "\n",
        "tokenizer.fit_on_texts(corpus)\n",
        "total_words = len(tokenizer.word_index) + 1 # add 1 for oov token\n",
        "\n",
        "# print(tokenizer.word_index)\n",
        "# print(total_words)"
      ],
      "execution_count": 5,
      "outputs": []
    },
    {
      "cell_type": "code",
      "metadata": {
        "id": "LqaBnwen3q6Y"
      },
      "source": [
        "input_sequences = []\n",
        "for line in corpus:\n",
        "  token_list = tokenizer.texts_to_sequences([line])[0]\n",
        "  for i in range(1, len(token_list)):\n",
        "    n_grams_sequence = token_list[:i+1]\n",
        "    input_sequences.append(n_grams_sequence)\n",
        "# print(input_sequences)\n",
        "# print(line)\n",
        "\n",
        "max_sequences_len = max([len(x) for x in input_sequences])\n",
        "input_sequences = np.array(pad_sequences(input_sequences, maxlen=max_sequences_len, padding='pre'))\n",
        "# print(input_sequences[1])\n",
        "\n",
        "xs, labels = input_sequences[:,:-1],input_sequences[:,-1]\n",
        "# print(f\"{xs[1]} {labels[1]}\")\n",
        "\n",
        "ys = tf.keras.utils.to_categorical(labels, num_classes=total_words)\n",
        "# print(ys[1])\n",
        "# print(tokenizer.word_index)"
      ],
      "execution_count": 6,
      "outputs": []
    },
    {
      "cell_type": "code",
      "metadata": {
        "colab": {
          "base_uri": "https://localhost:8080/"
        },
        "id": "cXm1TrDj7zIn",
        "outputId": "074dd768-a435-4eef-aba3-545055beb310"
      },
      "source": [
        "model = Sequential()\n",
        "model.add(Embedding(total_words, 100, input_length=max_sequences_len-1)) # -1 for element use as label ref line 14\n",
        "model.add(Bidirectional(LSTM(150)))\n",
        "model.add(Dense(total_words, activation=tf.nn.softmax))\n",
        "adam = Adam(lr=0.01)\n",
        "model.compile(loss=tf.losses.categorical_crossentropy, optimizer=adam, metrics=['accuracy'])\n",
        "history = model.fit(xs, ys, epochs=100, verbose=1)\n",
        "print(model)"
      ],
      "execution_count": 7,
      "outputs": [
        {
          "output_type": "stream",
          "text": [
            "Epoch 1/100\n",
            "377/377 [==============================] - 12s 9ms/step - loss: 6.8525 - accuracy: 0.0613\n",
            "Epoch 2/100\n",
            "377/377 [==============================] - 3s 9ms/step - loss: 5.7538 - accuracy: 0.1088\n",
            "Epoch 3/100\n",
            "377/377 [==============================] - 3s 9ms/step - loss: 4.8454 - accuracy: 0.1647\n",
            "Epoch 4/100\n",
            "377/377 [==============================] - 3s 9ms/step - loss: 3.8899 - accuracy: 0.2565\n",
            "Epoch 5/100\n",
            "377/377 [==============================] - 4s 9ms/step - loss: 3.0297 - accuracy: 0.3572\n",
            "Epoch 6/100\n",
            "377/377 [==============================] - 3s 9ms/step - loss: 2.4122 - accuracy: 0.4627\n",
            "Epoch 7/100\n",
            "377/377 [==============================] - 4s 9ms/step - loss: 1.9148 - accuracy: 0.5576\n",
            "Epoch 8/100\n",
            "377/377 [==============================] - 4s 10ms/step - loss: 1.5531 - accuracy: 0.6360\n",
            "Epoch 9/100\n",
            "377/377 [==============================] - 3s 9ms/step - loss: 1.2901 - accuracy: 0.6966\n",
            "Epoch 10/100\n",
            "377/377 [==============================] - 4s 9ms/step - loss: 1.1192 - accuracy: 0.7228\n",
            "Epoch 11/100\n",
            "377/377 [==============================] - 3s 9ms/step - loss: 0.9821 - accuracy: 0.7673\n",
            "Epoch 12/100\n",
            "377/377 [==============================] - 3s 9ms/step - loss: 0.9417 - accuracy: 0.7668\n",
            "Epoch 13/100\n",
            "377/377 [==============================] - 4s 9ms/step - loss: 0.9133 - accuracy: 0.7669\n",
            "Epoch 14/100\n",
            "377/377 [==============================] - 4s 10ms/step - loss: 0.9299 - accuracy: 0.7668\n",
            "Epoch 15/100\n",
            "377/377 [==============================] - 4s 9ms/step - loss: 0.9940 - accuracy: 0.7447\n",
            "Epoch 16/100\n",
            "377/377 [==============================] - 4s 9ms/step - loss: 1.0058 - accuracy: 0.7368\n",
            "Epoch 17/100\n",
            "377/377 [==============================] - 4s 10ms/step - loss: 0.9915 - accuracy: 0.7444\n",
            "Epoch 18/100\n",
            "377/377 [==============================] - 4s 9ms/step - loss: 0.8980 - accuracy: 0.7669\n",
            "Epoch 19/100\n",
            "377/377 [==============================] - 4s 10ms/step - loss: 0.7966 - accuracy: 0.7931\n",
            "Epoch 20/100\n",
            "377/377 [==============================] - 3s 9ms/step - loss: 0.7614 - accuracy: 0.8041\n",
            "Epoch 21/100\n",
            "377/377 [==============================] - 4s 9ms/step - loss: 0.7543 - accuracy: 0.8038\n",
            "Epoch 22/100\n",
            "377/377 [==============================] - 4s 9ms/step - loss: 0.7749 - accuracy: 0.8022\n",
            "Epoch 23/100\n",
            "377/377 [==============================] - 3s 9ms/step - loss: 0.8414 - accuracy: 0.7848\n",
            "Epoch 24/100\n",
            "377/377 [==============================] - 4s 9ms/step - loss: 0.8463 - accuracy: 0.7788\n",
            "Epoch 25/100\n",
            "377/377 [==============================] - 4s 10ms/step - loss: 0.9094 - accuracy: 0.7564\n",
            "Epoch 26/100\n",
            "377/377 [==============================] - 3s 9ms/step - loss: 0.8972 - accuracy: 0.7555\n",
            "Epoch 27/100\n",
            "377/377 [==============================] - 4s 10ms/step - loss: 0.8369 - accuracy: 0.7810\n",
            "Epoch 28/100\n",
            "377/377 [==============================] - 4s 9ms/step - loss: 0.7918 - accuracy: 0.7854\n",
            "Epoch 29/100\n",
            "377/377 [==============================] - 3s 9ms/step - loss: 0.7258 - accuracy: 0.8075\n",
            "Epoch 30/100\n",
            "377/377 [==============================] - 3s 9ms/step - loss: 0.7146 - accuracy: 0.8106\n",
            "Epoch 31/100\n",
            "377/377 [==============================] - 3s 9ms/step - loss: 0.7480 - accuracy: 0.8065\n",
            "Epoch 32/100\n",
            "377/377 [==============================] - 3s 9ms/step - loss: 0.8166 - accuracy: 0.7831\n",
            "Epoch 33/100\n",
            "377/377 [==============================] - 3s 9ms/step - loss: 0.8946 - accuracy: 0.7571\n",
            "Epoch 34/100\n",
            "377/377 [==============================] - 3s 9ms/step - loss: 0.9341 - accuracy: 0.7525\n",
            "Epoch 35/100\n",
            "377/377 [==============================] - 4s 9ms/step - loss: 0.8943 - accuracy: 0.7593\n",
            "Epoch 36/100\n",
            "377/377 [==============================] - 3s 9ms/step - loss: 0.8162 - accuracy: 0.7815\n",
            "Epoch 37/100\n",
            "377/377 [==============================] - 3s 9ms/step - loss: 0.7465 - accuracy: 0.8015\n",
            "Epoch 38/100\n",
            "377/377 [==============================] - 3s 9ms/step - loss: 0.7622 - accuracy: 0.7928\n",
            "Epoch 39/100\n",
            "377/377 [==============================] - 3s 9ms/step - loss: 0.6841 - accuracy: 0.8172\n",
            "Epoch 40/100\n",
            "377/377 [==============================] - 3s 9ms/step - loss: 0.7124 - accuracy: 0.8094\n",
            "Epoch 41/100\n",
            "377/377 [==============================] - 3s 9ms/step - loss: 0.7126 - accuracy: 0.8087\n",
            "Epoch 42/100\n",
            "377/377 [==============================] - 4s 9ms/step - loss: 0.7964 - accuracy: 0.7864\n",
            "Epoch 43/100\n",
            "377/377 [==============================] - 4s 10ms/step - loss: 0.8831 - accuracy: 0.7635\n",
            "Epoch 44/100\n",
            "377/377 [==============================] - 3s 9ms/step - loss: 0.9276 - accuracy: 0.7523\n",
            "Epoch 45/100\n",
            "377/377 [==============================] - 3s 9ms/step - loss: 0.8624 - accuracy: 0.7729\n",
            "Epoch 46/100\n",
            "377/377 [==============================] - 3s 9ms/step - loss: 0.7711 - accuracy: 0.7922\n",
            "Epoch 47/100\n",
            "377/377 [==============================] - 4s 9ms/step - loss: 0.7010 - accuracy: 0.8087\n",
            "Epoch 48/100\n",
            "377/377 [==============================] - 4s 10ms/step - loss: 0.6638 - accuracy: 0.8192\n",
            "Epoch 49/100\n",
            "377/377 [==============================] - 4s 10ms/step - loss: 0.6661 - accuracy: 0.8200\n",
            "Epoch 50/100\n",
            "377/377 [==============================] - 3s 9ms/step - loss: 0.6960 - accuracy: 0.8097\n",
            "Epoch 51/100\n",
            "377/377 [==============================] - 3s 9ms/step - loss: 0.7483 - accuracy: 0.7915\n",
            "Epoch 52/100\n",
            "377/377 [==============================] - 4s 10ms/step - loss: 0.8059 - accuracy: 0.7835\n",
            "Epoch 53/100\n",
            "377/377 [==============================] - 4s 10ms/step - loss: 0.8751 - accuracy: 0.7665\n",
            "Epoch 54/100\n",
            "377/377 [==============================] - 4s 10ms/step - loss: 0.9131 - accuracy: 0.7588\n",
            "Epoch 55/100\n",
            "377/377 [==============================] - 3s 9ms/step - loss: 0.7953 - accuracy: 0.7802\n",
            "Epoch 56/100\n",
            "377/377 [==============================] - 3s 9ms/step - loss: 0.7836 - accuracy: 0.7892\n",
            "Epoch 57/100\n",
            "377/377 [==============================] - 3s 9ms/step - loss: 0.7352 - accuracy: 0.7999\n",
            "Epoch 58/100\n",
            "377/377 [==============================] - 3s 9ms/step - loss: 0.7245 - accuracy: 0.8017\n",
            "Epoch 59/100\n",
            "377/377 [==============================] - 4s 9ms/step - loss: 0.6827 - accuracy: 0.8149\n",
            "Epoch 60/100\n",
            "377/377 [==============================] - 3s 9ms/step - loss: 0.6650 - accuracy: 0.8236\n",
            "Epoch 61/100\n",
            "377/377 [==============================] - 4s 9ms/step - loss: 0.6916 - accuracy: 0.8129\n",
            "Epoch 62/100\n",
            "377/377 [==============================] - 3s 9ms/step - loss: 0.7388 - accuracy: 0.8024\n",
            "Epoch 63/100\n",
            "377/377 [==============================] - 4s 9ms/step - loss: 0.8021 - accuracy: 0.7824\n",
            "Epoch 64/100\n",
            "377/377 [==============================] - 3s 9ms/step - loss: 0.8130 - accuracy: 0.7815\n",
            "Epoch 65/100\n",
            "377/377 [==============================] - 3s 9ms/step - loss: 0.8475 - accuracy: 0.7744\n",
            "Epoch 66/100\n",
            "377/377 [==============================] - 3s 9ms/step - loss: 0.8575 - accuracy: 0.7724\n",
            "Epoch 67/100\n",
            "377/377 [==============================] - 4s 9ms/step - loss: 0.9156 - accuracy: 0.7645\n",
            "Epoch 68/100\n",
            "377/377 [==============================] - 3s 9ms/step - loss: 0.7574 - accuracy: 0.7931\n",
            "Epoch 69/100\n",
            "377/377 [==============================] - 3s 9ms/step - loss: 0.7764 - accuracy: 0.7893\n",
            "Epoch 70/100\n",
            "377/377 [==============================] - 3s 9ms/step - loss: 0.7047 - accuracy: 0.8102\n",
            "Epoch 71/100\n",
            "377/377 [==============================] - 3s 9ms/step - loss: 0.7170 - accuracy: 0.8043\n",
            "Epoch 72/100\n",
            "377/377 [==============================] - 3s 9ms/step - loss: 0.7118 - accuracy: 0.8034\n",
            "Epoch 73/100\n",
            "377/377 [==============================] - 3s 9ms/step - loss: 0.7356 - accuracy: 0.7994\n",
            "Epoch 74/100\n",
            "377/377 [==============================] - 3s 9ms/step - loss: 0.7629 - accuracy: 0.7872\n",
            "Epoch 75/100\n",
            "377/377 [==============================] - 3s 9ms/step - loss: 0.7493 - accuracy: 0.7951\n",
            "Epoch 76/100\n",
            "377/377 [==============================] - 4s 10ms/step - loss: 0.8090 - accuracy: 0.7858\n",
            "Epoch 77/100\n",
            "377/377 [==============================] - 4s 10ms/step - loss: 0.7926 - accuracy: 0.7844\n",
            "Epoch 78/100\n",
            "377/377 [==============================] - 4s 10ms/step - loss: 0.7602 - accuracy: 0.7944\n",
            "Epoch 79/100\n",
            "377/377 [==============================] - 3s 9ms/step - loss: 0.7534 - accuracy: 0.7939\n",
            "Epoch 80/100\n",
            "377/377 [==============================] - 3s 9ms/step - loss: 0.6979 - accuracy: 0.8091\n",
            "Epoch 81/100\n",
            "377/377 [==============================] - 3s 9ms/step - loss: 0.6830 - accuracy: 0.8124\n",
            "Epoch 82/100\n",
            "377/377 [==============================] - 3s 9ms/step - loss: 0.6964 - accuracy: 0.8120\n",
            "Epoch 83/100\n",
            "377/377 [==============================] - 3s 9ms/step - loss: 0.6717 - accuracy: 0.8152\n",
            "Epoch 84/100\n",
            "377/377 [==============================] - 3s 9ms/step - loss: 0.7002 - accuracy: 0.8069\n",
            "Epoch 85/100\n",
            "377/377 [==============================] - 3s 9ms/step - loss: 0.7152 - accuracy: 0.8026\n",
            "Epoch 86/100\n",
            "377/377 [==============================] - 3s 9ms/step - loss: 0.7439 - accuracy: 0.7969\n",
            "Epoch 87/100\n",
            "377/377 [==============================] - 3s 9ms/step - loss: 0.7676 - accuracy: 0.7900\n",
            "Epoch 88/100\n",
            "377/377 [==============================] - 3s 9ms/step - loss: 0.7456 - accuracy: 0.8008\n",
            "Epoch 89/100\n",
            "377/377 [==============================] - 3s 9ms/step - loss: 0.7482 - accuracy: 0.7989\n",
            "Epoch 90/100\n",
            "377/377 [==============================] - 3s 9ms/step - loss: 0.6934 - accuracy: 0.8103\n",
            "Epoch 91/100\n",
            "377/377 [==============================] - 3s 9ms/step - loss: 0.6646 - accuracy: 0.8179\n",
            "Epoch 92/100\n",
            "377/377 [==============================] - 3s 9ms/step - loss: 0.6513 - accuracy: 0.8163\n",
            "Epoch 93/100\n",
            "377/377 [==============================] - 4s 9ms/step - loss: 0.6547 - accuracy: 0.8192\n",
            "Epoch 94/100\n",
            "377/377 [==============================] - 3s 9ms/step - loss: 0.6580 - accuracy: 0.8195\n",
            "Epoch 95/100\n",
            "377/377 [==============================] - 3s 9ms/step - loss: 0.7264 - accuracy: 0.8018\n",
            "Epoch 96/100\n",
            "377/377 [==============================] - 3s 9ms/step - loss: 0.7796 - accuracy: 0.7907\n",
            "Epoch 97/100\n",
            "377/377 [==============================] - 3s 9ms/step - loss: 0.7713 - accuracy: 0.7946\n",
            "Epoch 98/100\n",
            "377/377 [==============================] - 3s 9ms/step - loss: 0.7479 - accuracy: 0.7972\n",
            "Epoch 99/100\n",
            "377/377 [==============================] - 3s 9ms/step - loss: 0.7072 - accuracy: 0.8085\n",
            "Epoch 100/100\n",
            "377/377 [==============================] - 3s 9ms/step - loss: 0.7169 - accuracy: 0.8049\n",
            "<tensorflow.python.keras.engine.sequential.Sequential object at 0x7ff36b49f978>\n"
          ],
          "name": "stdout"
        }
      ]
    },
    {
      "cell_type": "code",
      "metadata": {
        "colab": {
          "base_uri": "https://localhost:8080/",
          "height": 279
        },
        "id": "hCLe_Siy9tkn",
        "outputId": "dc248744-a8aa-48ed-aeaa-5c1e8d835899"
      },
      "source": [
        "import matplotlib.pyplot as plt\n",
        "\n",
        "def plot_graphs(history, string):\n",
        "  plt.plot(history.history[string])\n",
        "  plt.xlabel(\"Epochs\")\n",
        "  plt.ylabel(string)\n",
        "  plt.show()\n",
        "\n",
        "plot_graphs(history, 'accuracy')"
      ],
      "execution_count": 9,
      "outputs": [
        {
          "output_type": "display_data",
          "data": {
            "image/png": "[encoded data removed]",
            "text/plain": [
              "<Figure size 432x288 with 1 Axes>"
            ]
          },
          "metadata": {
            "tags": [],
            "needs_background": "light"
          }
        }
      ]
    },
    {
      "cell_type": "code",
      "metadata": {
        "colab": {
          "base_uri": "https://localhost:8080/"
        },
        "id": "Iq8lGnev-oSH",
        "outputId": "b540b31b-db64-4988-beae-867765c9c8b4"
      },
      "source": [
        "seed_text = \"I've got a bad feeling about this\"\n",
        "\n",
        "next_words = 100\n",
        "\n",
        "for _ in range(next_words):\n",
        "  token_list = tokenizer.texts_to_sequences([seed_text])[0]\n",
        "  token_list = pad_sequences([token_list], maxlen=max_sequences_len-1, padding='pre')\n",
        "  predicted = model.predict_classes(token_list, verbose=0)\n",
        "  output_word = \"\"\n",
        "  for word, index in tokenizer.word_index.items():\n",
        "    if index == predicted:\n",
        "      output_word = word\n",
        "      break\n",
        "  seed_text += \" \" + output_word\n",
        "print(seed_text)\n"
      ],
      "execution_count": 11,
      "outputs": [
        {
          "output_type": "stream",
          "text": [
            "/usr/local/lib/python3.6/dist-packages/tensorflow/python/keras/engine/sequential.py:450: UserWarning: `model.predict_classes()` is deprecated and will be removed after 2021-01-01. Please use instead:* `np.argmax(model.predict(x), axis=-1)`,   if your model does multi-class classification   (e.g. if it uses a `softmax` last-layer activation).* `(model.predict(x) > 0.5).astype(\"int32\")`,   if your model does binary classification   (e.g. if it uses a `sigmoid` last-layer activation).\n",
            "  warnings.warn('`model.predict_classes()` is deprecated and '\n"
          ],
          "name": "stderr"
        },
        {
          "output_type": "stream",
          "text": [
            "I've got a bad feeling about this spreading before the fine grows of the daughter home i did say me nay and i gone and gone the love and liffey and the way for the eyes and free town ship was sailing and last beauty and ive going to make a good sharp axe abusing love the love the love and i sat down to their cursed on the them in leave pardon their eyes twill make thee town of tears it gone with gone by and the leaves they i was a jewel when ruler sun night and the love and you saw gone by love\n"
          ],
          "name": "stdout"
        }
      ]
    }
  ]
}