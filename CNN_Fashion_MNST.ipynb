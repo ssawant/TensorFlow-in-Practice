{
  "nbformat": 4,
  "nbformat_minor": 0,
  "metadata": {
    "colab": {
      "name": "CNN_Fashion_MNST.ipynb",
      "provenance": [],
      "authorship_tag": "ABX9TyO513ikhyPcqgkeu9Mxka/F",
      "include_colab_link": true
    },
    "kernelspec": {
      "name": "python3",
      "display_name": "Python 3"
    }
  },
  "cells": [
    {
      "cell_type": "markdown",
      "metadata": {
        "id": "view-in-github",
        "colab_type": "text"
      },
      "source": [
        "<a href=\"https://colab.research.google.com/github/ssawant/TensorFlow-in-Practice/blob/main/CNN_Fashion_MNST.ipynb\" target=\"_parent\"><img src=\"https://colab.research.google.com/assets/colab-badge.svg\" alt=\"Open In Colab\"/></a>"
      ]
    },
    {
      "cell_type": "code",
      "metadata": {
        "id": "ZzuVAqQt45Ps"
      },
      "source": [
        "import pandas as pd\n",
        "import numpy as np\n",
        "\n",
        "import matplotlib.pyplot as plt\n",
        "import seaborn as sns"
      ],
      "execution_count": 90,
      "outputs": []
    },
    {
      "cell_type": "code",
      "metadata": {
        "id": "8ieRwpOt5E9D"
      },
      "source": [
        "from tensorflow.keras.datasets import fashion_mnist"
      ],
      "execution_count": 91,
      "outputs": []
    },
    {
      "cell_type": "code",
      "metadata": {
        "id": "_rWlPWf95N8l"
      },
      "source": [
        "(x_train, y_train), (x_test, y_test) = fashion_mnist.load_data()"
      ],
      "execution_count": 92,
      "outputs": []
    },
    {
      "cell_type": "code",
      "metadata": {
        "colab": {
          "base_uri": "https://localhost:8080/"
        },
        "id": "k66uxGDl5Y2t",
        "outputId": "5c82d859-cf44-492c-8a9e-12ae0f0d778a"
      },
      "source": [
        "x_train.shape"
      ],
      "execution_count": 93,
      "outputs": [
        {
          "output_type": "execute_result",
          "data": {
            "text/plain": [
              "(60000, 28, 28)"
            ]
          },
          "metadata": {
            "tags": []
          },
          "execution_count": 93
        }
      ]
    },
    {
      "cell_type": "code",
      "metadata": {
        "colab": {
          "base_uri": "https://localhost:8080/",
          "height": 265
        },
        "id": "R-3Wdj4J5pTc",
        "outputId": "86c37b58-f83b-49ed-8c87-87a72297ac7d"
      },
      "source": [
        "plt.imshow(x_train[0],cmap='gray');"
      ],
      "execution_count": 94,
      "outputs": [
        {
          "output_type": "display_data",
          "data": {
            "image/png": "[encoded data removed]",
            "text/plain": [
              "<Figure size 432x288 with 1 Axes>"
            ]
          },
          "metadata": {
            "tags": [],
            "needs_background": "light"
          }
        }
      ]
    },
    {
      "cell_type": "code",
      "metadata": {
        "id": "eywonMgI6r-b"
      },
      "source": [
        "from tensorflow.keras.utils import to_categorical"
      ],
      "execution_count": 95,
      "outputs": []
    },
    {
      "cell_type": "code",
      "metadata": {
        "id": "IPmtuJgu7Y_L"
      },
      "source": [
        "y_cat_train = to_categorical(y_train, num_classes=10)\n",
        "y_cat_test = to_categorical(y_test,num_classes=10)"
      ],
      "execution_count": 96,
      "outputs": []
    },
    {
      "cell_type": "code",
      "metadata": {
        "id": "Zc6qigZZAfqj"
      },
      "source": [
        "x_train = x_train/255"
      ],
      "execution_count": 97,
      "outputs": []
    },
    {
      "cell_type": "code",
      "metadata": {
        "id": "a5GZdyUmAlJu"
      },
      "source": [
        "x_test = x_test/255"
      ],
      "execution_count": 98,
      "outputs": []
    },
    {
      "cell_type": "code",
      "metadata": {
        "colab": {
          "base_uri": "https://localhost:8080/"
        },
        "id": "jSlhsC6B7pny",
        "outputId": "2dc02fea-8dd9-4356-a994-774afaf7e9fe"
      },
      "source": [
        "# y_cat_train[0]\n",
        "#y_cat_train.shape\n",
        "x_train[0].min()\n",
        "# 32*28*28"
      ],
      "execution_count": 99,
      "outputs": [
        {
          "output_type": "execute_result",
          "data": {
            "text/plain": [
              "0.0"
            ]
          },
          "metadata": {
            "tags": []
          },
          "execution_count": 99
        }
      ]
    },
    {
      "cell_type": "code",
      "metadata": {
        "id": "a8ki_D1rBP3R"
      },
      "source": [
        "x_train = x_train.reshape(60000, 28, 28,1) # check this out\n",
        "# x_test.shape"
      ],
      "execution_count": 100,
      "outputs": []
    },
    {
      "cell_type": "code",
      "metadata": {
        "id": "S-8Iqo-3BhQD"
      },
      "source": [
        "x_test = x_test.reshape(10000, 28, 28,1)"
      ],
      "execution_count": 101,
      "outputs": []
    },
    {
      "cell_type": "code",
      "metadata": {
        "id": "6ppLV1y98SJp"
      },
      "source": [
        "import tensorflow as tf\n",
        "\n",
        "from tensorflow.keras.models import Sequential\n",
        "from tensorflow.keras.layers import Dense, Conv2D, MaxPool2D, Flatten"
      ],
      "execution_count": 102,
      "outputs": []
    },
    {
      "cell_type": "code",
      "metadata": {
        "id": "KX3KGwsO877K"
      },
      "source": [
        "model = Sequential()\n",
        "\n",
        "model.add(Conv2D(32,kernel_size=(4,4),strides=(1,1), activation=tf.nn.relu, input_shape=(28,28,1)))\n",
        "model.add(MaxPool2D(pool_size=(2,2)))\n",
        "\n",
        "model.add(Flatten())\n",
        "model.add(Dense(128, activation=tf.nn.relu))\n",
        "model.add(Dense(10, activation=tf.nn.softmax))\n",
        "\n",
        "model.compile(optimizer=tf.optimizers.Adam(),loss=tf.losses.categorical_crossentropy, metrics=['accuracy'])"
      ],
      "execution_count": 103,
      "outputs": []
    },
    {
      "cell_type": "code",
      "metadata": {
        "colab": {
          "base_uri": "https://localhost:8080/"
        },
        "id": "ILC-O7ZB-lfI",
        "outputId": "c4b741a6-81a2-44e3-e7fb-61199fbca7b2"
      },
      "source": [
        "model.summary()"
      ],
      "execution_count": 104,
      "outputs": [
        {
          "output_type": "stream",
          "text": [
            "Model: \"sequential_7\"\n",
            "_________________________________________________________________\n",
            "Layer (type)                 Output Shape              Param #   \n",
            "=================================================================\n",
            "conv2d_7 (Conv2D)            (None, 25, 25, 32)        544       \n",
            "_________________________________________________________________\n",
            "max_pooling2d_7 (MaxPooling2 (None, 12, 12, 32)        0         \n",
            "_________________________________________________________________\n",
            "flatten_7 (Flatten)          (None, 4608)              0         \n",
            "_________________________________________________________________\n",
            "dense_14 (Dense)             (None, 128)               589952    \n",
            "_________________________________________________________________\n",
            "dense_15 (Dense)             (None, 10)                1290      \n",
            "=================================================================\n",
            "Total params: 591,786\n",
            "Trainable params: 591,786\n",
            "Non-trainable params: 0\n",
            "_________________________________________________________________\n"
          ],
          "name": "stdout"
        }
      ]
    },
    {
      "cell_type": "code",
      "metadata": {
        "id": "mU1pmt74_GF4"
      },
      "source": [
        "from tensorflow.keras.callbacks import EarlyStopping"
      ],
      "execution_count": 105,
      "outputs": []
    },
    {
      "cell_type": "code",
      "metadata": {
        "id": "8HOdUjEX_fOv"
      },
      "source": [
        "early_stopping = EarlyStopping(monitor='val_loss',patience=1)"
      ],
      "execution_count": 106,
      "outputs": []
    },
    {
      "cell_type": "code",
      "metadata": {
        "colab": {
          "base_uri": "https://localhost:8080/"
        },
        "id": "gQpQja8A_wX1",
        "outputId": "2cb907b7-4215-47d0-9519-4f5dac84bd25"
      },
      "source": [
        "model.fit(x_train, y_cat_train, epochs=15, validation_data=(x_test,y_cat_test), callbacks=[early_stopping])"
      ],
      "execution_count": 107,
      "outputs": [
        {
          "output_type": "stream",
          "text": [
            "Epoch 1/15\n",
            "1875/1875 [==============================] - 37s 19ms/step - loss: 0.5417 - accuracy: 0.8083 - val_loss: 0.3450 - val_accuracy: 0.8763\n",
            "Epoch 2/15\n",
            "1875/1875 [==============================] - 36s 19ms/step - loss: 0.2882 - accuracy: 0.8959 - val_loss: 0.2917 - val_accuracy: 0.8975\n",
            "Epoch 3/15\n",
            "1875/1875 [==============================] - 36s 19ms/step - loss: 0.2335 - accuracy: 0.9137 - val_loss: 0.2566 - val_accuracy: 0.9060\n",
            "Epoch 4/15\n",
            "1875/1875 [==============================] - 35s 19ms/step - loss: 0.2021 - accuracy: 0.9251 - val_loss: 0.2661 - val_accuracy: 0.9016\n"
          ],
          "name": "stdout"
        },
        {
          "output_type": "execute_result",
          "data": {
            "text/plain": [
              "<tensorflow.python.keras.callbacks.History at 0x7fd7437524a8>"
            ]
          },
          "metadata": {
            "tags": []
          },
          "execution_count": 107
        }
      ]
    },
    {
      "cell_type": "code",
      "metadata": {
        "id": "WSpoJQNVC161"
      },
      "source": [
        "metrics = pd.DataFrame(model.history.history)"
      ],
      "execution_count": 108,
      "outputs": []
    },
    {
      "cell_type": "code",
      "metadata": {
        "colab": {
          "base_uri": "https://localhost:8080/",
          "height": 265
        },
        "id": "rB9OAB5wC-1d",
        "outputId": "4452671d-761f-4c15-ea78-00d4d029e6fe"
      },
      "source": [
        "metrics[['loss','val_loss']].plot();"
      ],
      "execution_count": 109,
      "outputs": [
        {
          "output_type": "display_data",
          "data": {
            "image/png": "[encoded data removed]",
            "text/plain": [
              "<Figure size 432x288 with 1 Axes>"
            ]
          },
          "metadata": {
            "tags": [],
            "needs_background": "light"
          }
        }
      ]
    },
    {
      "cell_type": "code",
      "metadata": {
        "colab": {
          "base_uri": "https://localhost:8080/",
          "height": 265
        },
        "id": "ZLNi1z77DWbI",
        "outputId": "5f835ac9-61a1-48b2-e276-b1c0b0447aac"
      },
      "source": [
        "metrics[['accuracy','val_accuracy']].plot();"
      ],
      "execution_count": 110,
      "outputs": [
        {
          "output_type": "display_data",
          "data": {
            "image/png": "[encoded data removed]",
            "text/plain": [
              "<Figure size 432x288 with 1 Axes>"
            ]
          },
          "metadata": {
            "tags": [],
            "needs_background": "light"
          }
        }
      ]
    },
    {
      "cell_type": "code",
      "metadata": {
        "colab": {
          "base_uri": "https://localhost:8080/"
        },
        "id": "c8pJYqcNDg11",
        "outputId": "431abb6d-db4a-49b6-e613-d109924bf0d2"
      },
      "source": [
        "model.evaluate(x_test,y_cat_test,verbose=1)"
      ],
      "execution_count": 111,
      "outputs": [
        {
          "output_type": "stream",
          "text": [
            "313/313 [==============================] - 2s 6ms/step - loss: 0.2661 - accuracy: 0.9016\n"
          ],
          "name": "stdout"
        },
        {
          "output_type": "execute_result",
          "data": {
            "text/plain": [
              "[0.26607540249824524, 0.9016000032424927]"
            ]
          },
          "metadata": {
            "tags": []
          },
          "execution_count": 111
        }
      ]
    },
    {
      "cell_type": "code",
      "metadata": {
        "id": "1LK8ikOrERNo"
      },
      "source": [
        "from sklearn.metrics import classification_report, confusion_matrix"
      ],
      "execution_count": 112,
      "outputs": []
    },
    {
      "cell_type": "code",
      "metadata": {
        "colab": {
          "base_uri": "https://localhost:8080/"
        },
        "id": "XsXyfDABEvKh",
        "outputId": "795f49cf-8036-4e7a-f836-05aab47d2cf4"
      },
      "source": [
        "prediction = model.predict_classes(x_test)"
      ],
      "execution_count": 114,
      "outputs": [
        {
          "output_type": "stream",
          "text": [
            "/usr/local/lib/python3.6/dist-packages/tensorflow/python/keras/engine/sequential.py:450: UserWarning: `model.predict_classes()` is deprecated and will be removed after 2021-01-01. Please use instead:* `np.argmax(model.predict(x), axis=-1)`,   if your model does multi-class classification   (e.g. if it uses a `softmax` last-layer activation).* `(model.predict(x) > 0.5).astype(\"int32\")`,   if your model does binary classification   (e.g. if it uses a `sigmoid` last-layer activation).\n",
            "  warnings.warn('`model.predict_classes()` is deprecated and '\n"
          ],
          "name": "stderr"
        }
      ]
    },
    {
      "cell_type": "code",
      "metadata": {
        "colab": {
          "base_uri": "https://localhost:8080/"
        },
        "id": "9OiM9At1NY3Z",
        "outputId": "23140ae5-9d65-4a29-fc63-649258952d9f"
      },
      "source": [
        "print(classification_report(y_test,prediction))"
      ],
      "execution_count": 118,
      "outputs": [
        {
          "output_type": "stream",
          "text": [
            "              precision    recall  f1-score   support\n",
            "\n",
            "           0       0.90      0.78      0.84      1000\n",
            "           1       0.99      0.98      0.99      1000\n",
            "           2       0.86      0.83      0.85      1000\n",
            "           3       0.87      0.93      0.90      1000\n",
            "           4       0.80      0.91      0.85      1000\n",
            "           5       0.97      0.98      0.98      1000\n",
            "           6       0.74      0.72      0.73      1000\n",
            "           7       0.98      0.92      0.95      1000\n",
            "           8       0.98      0.98      0.98      1000\n",
            "           9       0.93      0.98      0.95      1000\n",
            "\n",
            "    accuracy                           0.90     10000\n",
            "   macro avg       0.90      0.90      0.90     10000\n",
            "weighted avg       0.90      0.90      0.90     10000\n",
            "\n"
          ],
          "name": "stdout"
        }
      ]
    },
    {
      "cell_type": "code",
      "metadata": {
        "colab": {
          "base_uri": "https://localhost:8080/"
        },
        "id": "_6B8lWMpN5Ad",
        "outputId": "1e36bead-8b15-4997-a74b-1dbf561e8332"
      },
      "source": [
        "confusion_matrix(y_test,prediction)"
      ],
      "execution_count": 120,
      "outputs": [
        {
          "output_type": "execute_result",
          "data": {
            "text/plain": [
              "array([[782,   1,  19,  47,   4,   1, 139,   0,   7,   0],\n",
              "       [  0, 980,   1,  12,   3,   0,   3,   0,   1,   0],\n",
              "       [ 13,   0, 830,   8,  98,   0,  51,   0,   0,   0],\n",
              "       [  4,   5,  13, 928,  26,   0,  22,   0,   2,   0],\n",
              "       [  0,   1,  27,  30, 913,   0,  29,   0,   0,   0],\n",
              "       [  0,   0,   0,   0,   0, 983,   0,   6,   1,  10],\n",
              "       [ 69,   1,  71,  37,  92,   0, 725,   0,   5,   0],\n",
              "       [  0,   0,   0,   0,   0,  17,   0, 918,   1,  64],\n",
              "       [  1,   0,   2,   3,   3,   3,   8,   1, 979,   0],\n",
              "       [  0,   0,   0,   0,   0,   5,   1,  16,   0, 978]])"
            ]
          },
          "metadata": {
            "tags": []
          },
          "execution_count": 120
        }
      ]
    },
    {
      "cell_type": "code",
      "metadata": {
        "colab": {
          "base_uri": "https://localhost:8080/",
          "height": 483
        },
        "id": "EgB3YIyPOJqT",
        "outputId": "d7b8f7f2-d0c5-4cd6-e26e-43e945290a67"
      },
      "source": [
        "plt.figure(figsize=(10,8))\n",
        "sns.heatmap(confusion_matrix(y_test,prediction),annot=True);"
      ],
      "execution_count": 124,
      "outputs": [
        {
          "output_type": "display_data",
          "data": {
            "image/png": "[encoded data removed]",
            "text/plain": [
              "<Figure size 720x576 with 2 Axes>"
            ]
          },
          "metadata": {
            "tags": [],
            "needs_background": "light"
          }
        }
      ]
    },
    {
      "cell_type": "code",
      "metadata": {
        "id": "yZS8RsEFRDla"
      },
      "source": [
        "ft_predict = x_test[0]"
      ],
      "execution_count": 125,
      "outputs": []
    },
    {
      "cell_type": "code",
      "metadata": {
        "colab": {
          "base_uri": "https://localhost:8080/",
          "height": 265
        },
        "id": "7bPiss6FRKdB",
        "outputId": "d5568585-3141-46b9-e4e4-0ffb15ec9a10"
      },
      "source": [
        "plt.imshow(ft_predict.reshape(28,28));"
      ],
      "execution_count": 129,
      "outputs": [
        {
          "output_type": "display_data",
          "data": {
            "image/png": "[encoded data removed]",
            "text/plain": [
              "<Figure size 432x288 with 1 Axes>"
            ]
          },
          "metadata": {
            "tags": [],
            "needs_background": "light"
          }
        }
      ]
    },
    {
      "cell_type": "code",
      "metadata": {
        "colab": {
          "base_uri": "https://localhost:8080/"
        },
        "id": "bqVZi6DJTKvq",
        "outputId": "275f6426-afa3-4e11-b614-c00dddcc3d3f"
      },
      "source": [
        "model.predict_classes(ft_predict.reshape(1,28,28,1)) # total_batch_size, width, height, color"
      ],
      "execution_count": 132,
      "outputs": [
        {
          "output_type": "stream",
          "text": [
            "/usr/local/lib/python3.6/dist-packages/tensorflow/python/keras/engine/sequential.py:450: UserWarning: `model.predict_classes()` is deprecated and will be removed after 2021-01-01. Please use instead:* `np.argmax(model.predict(x), axis=-1)`,   if your model does multi-class classification   (e.g. if it uses a `softmax` last-layer activation).* `(model.predict(x) > 0.5).astype(\"int32\")`,   if your model does binary classification   (e.g. if it uses a `sigmoid` last-layer activation).\n",
            "  warnings.warn('`model.predict_classes()` is deprecated and '\n"
          ],
          "name": "stderr"
        },
        {
          "output_type": "execute_result",
          "data": {
            "text/plain": [
              "array([9])"
            ]
          },
          "metadata": {
            "tags": []
          },
          "execution_count": 132
        }
      ]
    }
  ]
}