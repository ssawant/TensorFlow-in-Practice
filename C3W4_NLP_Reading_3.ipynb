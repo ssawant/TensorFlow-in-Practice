{
  "nbformat": 4,
  "nbformat_minor": 0,
  "metadata": {
    "colab": {
      "name": "C3W4_NLP_Reading_3.ipynb",
      "provenance": [],
      "authorship_tag": "ABX9TyNMIDfwdKFGOIjDUrS7Cenz",
      "include_colab_link": true
    },
    "kernelspec": {
      "name": "python3",
      "display_name": "Python 3"
    },
    "accelerator": "GPU"
  },
  "cells": [
    {
      "cell_type": "markdown",
      "metadata": {
        "id": "view-in-github",
        "colab_type": "text"
      },
      "source": [
        "<a href=\"https://colab.research.google.com/github/ssawant/TensorFlow-in-Practice/blob/main/C3W4_NLP_Reading_3.ipynb\" target=\"_parent\"><img src=\"https://colab.research.google.com/assets/colab-badge.svg\" alt=\"Open In Colab\"/></a>"
      ]
    },
    {
      "cell_type": "code",
      "metadata": {
        "colab": {
          "base_uri": "https://localhost:8080/"
        },
        "id": "GYbulBauVKXl",
        "outputId": "4630d513-da28-4463-e341-fa75bc19339c"
      },
      "source": [
        "import tensorflow as tf\n",
        "import numpy as np\n",
        "import os\n",
        "\n",
        "print(tf.__version__)"
      ],
      "execution_count": 1,
      "outputs": [
        {
          "output_type": "stream",
          "text": [
            "2.4.0\n"
          ],
          "name": "stdout"
        }
      ]
    },
    {
      "cell_type": "code",
      "metadata": {
        "colab": {
          "base_uri": "https://localhost:8080/"
        },
        "id": "vdxZoVkOaSYO",
        "outputId": "4aa40cd1-54c0-4fc4-fcff-08daa7c04067"
      },
      "source": [
        "file = tf.keras.utils.get_file('shakespeare.txt', 'https://storage.googleapis.com/download.tensorflow.org/data/shakespeare.txt')\n",
        "text = open(file, 'rb').read().decode(encoding='utf-8')\n",
        "\n",
        "print(f\"{len(text)}\")\n",
        "print(f\"{text[:250]}\")"
      ],
      "execution_count": 2,
      "outputs": [
        {
          "output_type": "stream",
          "text": [
            "Downloading data from https://storage.googleapis.com/download.tensorflow.org/data/shakespeare.txt\n",
            "1122304/1115394 [==============================] - 0s 0us/step\n",
            "1115394\n",
            "First Citizen:\n",
            "Before we proceed any further, hear me speak.\n",
            "\n",
            "All:\n",
            "Speak, speak.\n",
            "\n",
            "First Citizen:\n",
            "You are all resolved rather to die than to famish?\n",
            "\n",
            "All:\n",
            "Resolved. resolved.\n",
            "\n",
            "First Citizen:\n",
            "First, you know Caius Marcius is chief enemy to the people.\n",
            "\n"
          ],
          "name": "stdout"
        }
      ]
    },
    {
      "cell_type": "code",
      "metadata": {
        "colab": {
          "base_uri": "https://localhost:8080/"
        },
        "id": "yd9YK73xbv4M",
        "outputId": "ce11cae8-2192-4304-a80b-195e161986d2"
      },
      "source": [
        "vocab = sorted(set(text))\n",
        "print(f\"{len(vocab)}\")\n",
        "# print(f\"{vocab}\")"
      ],
      "execution_count": 3,
      "outputs": [
        {
          "output_type": "stream",
          "text": [
            "65\n"
          ],
          "name": "stdout"
        }
      ]
    },
    {
      "cell_type": "code",
      "metadata": {
        "colab": {
          "base_uri": "https://localhost:8080/"
        },
        "id": "WO61K6OpcET_",
        "outputId": "6a9e6971-e496-438e-846d-d7d0d0fe4854"
      },
      "source": [
        "# creating a mapping for unique characters to indices\n",
        "char2indx = {u:i for i, u in enumerate(vocab)}\n",
        "indx2char = np.array(vocab)\n",
        "\n",
        "text_as_int = np.array([char2indx[c] for c in text])\n",
        "# print(f\"{len(text_as_int)}\")\n",
        "print(f\"{char2indx['C']}\")\n",
        "print(f\"{text[:13]} ===> {text_as_int[:13]}\")"
      ],
      "execution_count": 4,
      "outputs": [
        {
          "output_type": "stream",
          "text": [
            "15\n",
            "First Citizen ===> [18 47 56 57 58  1 15 47 58 47 64 43 52]\n"
          ],
          "name": "stdout"
        }
      ]
    },
    {
      "cell_type": "code",
      "metadata": {
        "colab": {
          "base_uri": "https://localhost:8080/"
        },
        "id": "yeATeiBXhzba",
        "outputId": "d7b5c3a9-cb93-46f6-8876-a692dc0b1d59"
      },
      "source": [
        "seq_length = 100\n",
        "example_per_epoch = len(text)\n",
        "\n",
        "# Creating training example/ traget\n",
        "char_dataset = tf.data.Dataset.from_tensor_slices(text_as_int)\n",
        "\n",
        "for i in char_dataset.take(15):\n",
        "  # print(i.numpy())\n",
        "  print(indx2char[i.numpy()])"
      ],
      "execution_count": 5,
      "outputs": [
        {
          "output_type": "stream",
          "text": [
            "F\n",
            "i\n",
            "r\n",
            "s\n",
            "t\n",
            " \n",
            "C\n",
            "i\n",
            "t\n",
            "i\n",
            "z\n",
            "e\n",
            "n\n",
            ":\n",
            "\n",
            "\n"
          ],
          "name": "stdout"
        }
      ]
    },
    {
      "cell_type": "code",
      "metadata": {
        "colab": {
          "base_uri": "https://localhost:8080/"
        },
        "id": "iZ-_PDp9johx",
        "outputId": "3f794305-5140-4d49-e6b3-517a8e492d2f"
      },
      "source": [
        "sequence = char_dataset.batch(seq_length+1, drop_remainder=True)\n",
        "\n",
        "print(sequence.take(13))"
      ],
      "execution_count": 6,
      "outputs": [
        {
          "output_type": "stream",
          "text": [
            "<TakeDataset shapes: (101,), types: tf.int64>\n"
          ],
          "name": "stdout"
        }
      ]
    },
    {
      "cell_type": "code",
      "metadata": {
        "colab": {
          "base_uri": "https://localhost:8080/"
        },
        "id": "fOErMiSDlYFF",
        "outputId": "131fca6b-81d4-4c31-f8c7-eb6c017e21bd"
      },
      "source": [
        "# return two list with first and last char removed\n",
        "def split_input_target(chunk):\n",
        "  input_text = chunk[:-1]\n",
        "  target_text = chunk[1:]\n",
        "  return input_text, target_text\n",
        "\n",
        "dataset = sequence.map(split_input_target) # lambda function call\n",
        "\n",
        "for input_example, target_example in  dataset.take(1):\n",
        "    print('Input data: ', repr(''.join(indx2char[input_example.numpy()])))\n",
        "    print('Target data:', repr(''.join(indx2char[target_example.numpy()])))"
      ],
      "execution_count": 7,
      "outputs": [
        {
          "output_type": "stream",
          "text": [
            "Input data:  'First Citizen:\\nBefore we proceed any further, hear me speak.\\n\\nAll:\\nSpeak, speak.\\n\\nFirst Citizen:\\nYou'\n",
            "Target data: 'irst Citizen:\\nBefore we proceed any further, hear me speak.\\n\\nAll:\\nSpeak, speak.\\n\\nFirst Citizen:\\nYou '\n"
          ],
          "name": "stdout"
        }
      ]
    },
    {
      "cell_type": "code",
      "metadata": {
        "id": "y6k5g8Swmw6i"
      },
      "source": [
        "# Creating training batch\n",
        "# Batch size\n",
        "BATCH_SIZE = 64\n",
        "\n",
        "# Buffer size to shuffle the dataset\n",
        "# (TF data is designed to work with possibly infinite sequences,\n",
        "# so it doesn't attempt to shuffle the entire sequence in memory. Instead,\n",
        "# it maintains a buffer in which it shuffles elements).\n",
        "BUFFER_SIZE = 10000\n",
        "\n",
        "dataset = dataset.shuffle(BUFFER_SIZE).batch(BATCH_SIZE, drop_remainder=True)"
      ],
      "execution_count": 8,
      "outputs": []
    },
    {
      "cell_type": "code",
      "metadata": {
        "colab": {
          "base_uri": "https://localhost:8080/"
        },
        "id": "c_Y6kswhnKvN",
        "outputId": "06f8d051-f13e-443a-fad6-990b904e9f70"
      },
      "source": [
        "vocab_size = len(vocab) # 65\n",
        "embedding_dim = 256\n",
        "rnn_units = 1024\n",
        "\n",
        "def build_model(vocab_size, embedding_dim, rnn_units, batch_size=BATCH_SIZE):\n",
        "  model = tf.keras.models.Sequential([\n",
        "    tf.keras.layers.Embedding(vocab_size, embedding_dim, batch_input_shape=[batch_size, None]),\n",
        "    tf.keras.layers.GRU(rnn_units, return_sequences=True, stateful=True, recurrent_initializer='glorot_uniform'),\n",
        "    tf.keras.layers.Dense(vocab_size)\n",
        "  ])\n",
        "  return model\n",
        "\n",
        "model = build_model(vocab_size, embedding_dim, rnn_units)\n",
        "model.summary()"
      ],
      "execution_count": 14,
      "outputs": [
        {
          "output_type": "stream",
          "text": [
            "Model: \"sequential_1\"\n",
            "_________________________________________________________________\n",
            "Layer (type)                 Output Shape              Param #   \n",
            "=================================================================\n",
            "embedding_1 (Embedding)      (64, None, 256)           16640     \n",
            "_________________________________________________________________\n",
            "gru_1 (GRU)                  (64, None, 1024)          3938304   \n",
            "_________________________________________________________________\n",
            "dense_1 (Dense)              (64, None, 65)            66625     \n",
            "=================================================================\n",
            "Total params: 4,021,569\n",
            "Trainable params: 4,021,569\n",
            "Non-trainable params: 0\n",
            "_________________________________________________________________\n"
          ],
          "name": "stdout"
        }
      ]
    },
    {
      "cell_type": "code",
      "metadata": {
        "id": "mn7KXCCR8eKr"
      },
      "source": [
        "def loss(labels, logits):\n",
        "  return tf.keras.losses.sparse_categorical_crossentropy(labels, logits, from_logits=True)\n",
        "\n",
        "model.compile(optimizer='adam', loss=loss)"
      ],
      "execution_count": 17,
      "outputs": []
    },
    {
      "cell_type": "code",
      "metadata": {
        "id": "ccSBnjWA9GE5"
      },
      "source": [
        "# callback checkpoint\n",
        "checkpoint_dir = './training_checkpoints'\n",
        "checkpoint_prefix = os.path.join(checkpoint_dir,\"ckpt_{epoch}\")\n",
        "\n",
        "checkpoint_callback = tf.keras.callbacks.ModelCheckpoint(filepath=checkpoint_prefix,save_weights_only=True)"
      ],
      "execution_count": 18,
      "outputs": []
    },
    {
      "cell_type": "code",
      "metadata": {
        "colab": {
          "base_uri": "https://localhost:8080/"
        },
        "id": "rEOcNqU--mVB",
        "outputId": "7d6fbcf3-aee9-417d-c42e-9d04b8c7cc7c"
      },
      "source": [
        "num_epoches = 10\n",
        "\n",
        "history = model.fit(dataset, epochs=num_epoches, callbacks=[checkpoint_callback])"
      ],
      "execution_count": 21,
      "outputs": [
        {
          "output_type": "stream",
          "text": [
            "Epoch 1/10\n",
            "172/172 [==============================] - 10s 55ms/step - loss: 1.2100\n",
            "Epoch 2/10\n",
            "172/172 [==============================] - 11s 56ms/step - loss: 1.1772\n",
            "Epoch 3/10\n",
            "172/172 [==============================] - 11s 56ms/step - loss: 1.1436\n",
            "Epoch 4/10\n",
            "172/172 [==============================] - 11s 57ms/step - loss: 1.1094\n",
            "Epoch 5/10\n",
            "172/172 [==============================] - 11s 58ms/step - loss: 1.0742\n",
            "Epoch 6/10\n",
            "172/172 [==============================] - 11s 58ms/step - loss: 1.0386\n",
            "Epoch 7/10\n",
            "172/172 [==============================] - 11s 58ms/step - loss: 1.0032\n",
            "Epoch 8/10\n",
            "172/172 [==============================] - 11s 58ms/step - loss: 0.9671\n",
            "Epoch 9/10\n",
            "172/172 [==============================] - 11s 59ms/step - loss: 0.9317\n",
            "Epoch 10/10\n",
            "172/172 [==============================] - 11s 60ms/step - loss: 0.8969\n"
          ],
          "name": "stdout"
        }
      ]
    },
    {
      "cell_type": "code",
      "metadata": {
        "colab": {
          "base_uri": "https://localhost:8080/",
          "height": 35
        },
        "id": "gDEHRSw4-sUc",
        "outputId": "a9fd36ff-a6b9-4f10-a369-9afeb90556ca"
      },
      "source": [
        "tf.train.latest_checkpoint(checkpoint_dir)"
      ],
      "execution_count": 20,
      "outputs": [
        {
          "output_type": "execute_result",
          "data": {
            "application/vnd.google.colaboratory.intrinsic+json": {
              "type": "string"
            },
            "text/plain": [
              "'./training_checkpoints/ckpt_10'"
            ]
          },
          "metadata": {
            "tags": []
          },
          "execution_count": 20
        }
      ]
    },
    {
      "cell_type": "code",
      "metadata": {
        "id": "i5LWGJtr_tRc"
      },
      "source": [
        "# run model with difference batch size\n",
        "model = build_model(vocab_size, embedding_dim, rnn_units, batch_size=1)\n",
        "model.load_weights(tf.train.latest_checkpoint(checkpoint_dir))\n",
        "model.build(tf.TensorShape([1, None]))"
      ],
      "execution_count": 22,
      "outputs": []
    },
    {
      "cell_type": "code",
      "metadata": {
        "id": "YWm7EeIrBXHx"
      },
      "source": [
        "def generate_text(model, start_string):\n",
        "  num_gen = 1000 # no of char to generate\n",
        "\n",
        "  # convert our start_string to numbers(vectorizing)\n",
        "  input_eval = [char2indx[s] for s in start_string]\n",
        "  input_eval = tf.expand_dims(input_eval, 0)\n",
        "\n",
        "  text_generated = []\n",
        "\n",
        "  temp = 1.0\n",
        "\n",
        "  model.reset_states()\n",
        "  for i in range(num_gen):\n",
        "    predictions = model(input_eval)\n",
        "    # remove the batch dimensions\n",
        "    predictions = tf.squeeze(predictions, 0)\n",
        "\n",
        "    predictions = predictions/temp\n",
        "    predicted_id = tf.random.categorical(predictions, num_samples=1)[-1,0].numpy()\n",
        "\n",
        "    input_eval = tf.expand_dims([predicted_id], 0)\n",
        "\n",
        "    text_generated.append(indx2char[predicted_id])\n",
        "  \n",
        "  return (start_string + ''.join(text_generated))\n"
      ],
      "execution_count": 28,
      "outputs": []
    },
    {
      "cell_type": "code",
      "metadata": {
        "colab": {
          "base_uri": "https://localhost:8080/"
        },
        "id": "q6x2rem0CCmg",
        "outputId": "bd466d32-af0c-4b7d-890e-60f8b59c79b0"
      },
      "source": [
        "print(generate_text(model, start_string=u\"First Citizen: \"))"
      ],
      "execution_count": 30,
      "outputs": [
        {
          "output_type": "stream",
          "text": [
            "First Citizen: I will prosper we make\n",
            "which any other,--you're none of his proje,\n",
            "Give me another, as I live, like a suard\n",
            "\n",
            "KING RICHARD II:\n",
            "I will he, consent then, I talk of my man.\n",
            "\n",
            "First Soldier:\n",
            "Foul weary great Aufidius,\n",
            "Our sea, I'll pine at our hands,\n",
            "Where I may chance to speak, not better.\n",
            "\n",
            "Gentleman:\n",
            "If that am cannot be amended\n",
            "From off my hands I give a long, to arm the rest,\n",
            "Are marger: thy fair King Richard's foot:\n",
            "And all revour, Kate!\n",
            "\n",
            "SOMERSEM:\n",
            "At Clarence? 'say this day life, I am as cheap'd of love?\n",
            "\n",
            "ALONSO:\n",
            "Thou stept was bit for them\n",
            "And fall out worthy office, as highness and Harry Pity,\n",
            "She's not heart:\n",
            "When let thy consent to pierce arguised?\n",
            "\n",
            "PAULINA:\n",
            "Good queen. I have felt three pestilence;\n",
            "Somedians have any grievy dog that.\n",
            "\n",
            "GRUMIO:\n",
            "O Tybalt, welcome.\n",
            "A fire is yond.\n",
            "\n",
            "PETRUCHIO:\n",
            "Believe me, sister, let's have said, LAp--\n",
            "Sim or her lip aragement\n",
            "That's left am maiden place; and, whilst Muster Citulent\n",
            "And send at Henry to your custion.\n",
            "My fairest crowns us by thy news or\n"
          ],
          "name": "stdout"
        }
      ]
    }
  ]
}