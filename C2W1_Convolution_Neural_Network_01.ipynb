{
  "nbformat": 4,
  "nbformat_minor": 0,
  "metadata": {
    "colab": {
      "name": "C2W1_Convolution_Neural_Network_01.ipynb",
      "provenance": [],
      "authorship_tag": "ABX9TyNZl0zzcPhfG68EJLBRFb3Y",
      "include_colab_link": true
    },
    "kernelspec": {
      "name": "python3",
      "display_name": "Python 3"
    },
    "accelerator": "GPU"
  },
  "cells": [
    {
      "cell_type": "markdown",
      "metadata": {
        "id": "view-in-github",
        "colab_type": "text"
      },
      "source": [
        "<a href=\"https://colab.research.google.com/github/ssawant/TensorFlow-in-Practice/blob/main/C2W1_Convolution_Neural_Network_01.ipynb\" target=\"_parent\"><img src=\"https://colab.research.google.com/assets/colab-badge.svg\" alt=\"Open In Colab\"/></a>"
      ]
    },
    {
      "cell_type": "code",
      "metadata": {
        "colab": {
          "base_uri": "https://localhost:8080/"
        },
        "id": "H4U_zam4kzE0",
        "outputId": "5ab8b2c1-ac23-4a86-f524-28c70a15df23"
      },
      "source": [
        "!wget --no-check-certificate \\\n",
        "  https://storage.googleapis.com/mledu-datasets/cats_and_dogs_filtered.zip \\\n",
        "  -O /tmp/cats_and_dogs_filtered.zip"
      ],
      "execution_count": 12,
      "outputs": [
        {
          "output_type": "stream",
          "text": [
            "--2020-12-21 10:47:37--  https://storage.googleapis.com/mledu-datasets/cats_and_dogs_filtered.zip\n",
            "Resolving storage.googleapis.com (storage.googleapis.com)... 74.125.197.128, 74.125.195.128, 74.125.142.128, ...\n",
            "Connecting to storage.googleapis.com (storage.googleapis.com)|74.125.197.128|:443... connected.\n",
            "HTTP request sent, awaiting response... 200 OK\n",
            "Length: 68606236 (65M) [application/zip]\n",
            "Saving to: ‘/tmp/cats_and_dogs_filtered.zip’\n",
            "\n",
            "/tmp/cats_and_dogs_ 100%[===================>]  65.43M   218MB/s    in 0.3s    \n",
            "\n",
            "2020-12-21 10:47:37 (218 MB/s) - ‘/tmp/cats_and_dogs_filtered.zip’ saved [68606236/68606236]\n",
            "\n"
          ],
          "name": "stdout"
        }
      ]
    },
    {
      "cell_type": "code",
      "metadata": {
        "id": "lJF1S0I0lTWf"
      },
      "source": [
        "import os, zipfile\n",
        "\n",
        "local_zip = '/tmp/cats_and_dogs_filtered.zip'\n",
        "zip_ref = zipfile.ZipFile(local_zip, 'r')\n",
        "zip_ref.extractall('/tmp')\n",
        "zip_ref.close()"
      ],
      "execution_count": 13,
      "outputs": []
    },
    {
      "cell_type": "code",
      "metadata": {
        "id": "t16L4cHymhSh"
      },
      "source": [
        "base_dir = '/tmp/cats_and_dogs_filtered'\n",
        "\n",
        "train_dir = os.path.join(base_dir, 'train')\n",
        "validation_dir = os.path.join(base_dir, 'validation')\n",
        "\n",
        "train_cats_dir = os.path.join(train_dir, 'cats')\n",
        "train_dogs_dir = os.path.join(train_dir, 'dogs')\n",
        "\n",
        "validation_cats_dir = os.path.join(validation_dir, 'cats')\n",
        "validation_dogs_dir = os.path.join(validation_dir, 'dogs')\n"
      ],
      "execution_count": 14,
      "outputs": []
    },
    {
      "cell_type": "code",
      "metadata": {
        "colab": {
          "base_uri": "https://localhost:8080/"
        },
        "id": "_4JcZ-MVqr-Y",
        "outputId": "6fb6189a-4408-4a73-c2c9-9396ca4544b9"
      },
      "source": [
        "train_cat_fnames = os.listdir( train_cats_dir )\n",
        "train_dog_fnames = os.listdir( train_dogs_dir )\n",
        "\n",
        "print(train_cat_fnames[:10])\n",
        "print(train_dog_fnames[:10])"
      ],
      "execution_count": 15,
      "outputs": [
        {
          "output_type": "stream",
          "text": [
            "['cat.837.jpg', 'cat.552.jpg', 'cat.852.jpg', 'cat.967.jpg', 'cat.903.jpg', 'cat.769.jpg', 'cat.817.jpg', 'cat.171.jpg', 'cat.795.jpg', 'cat.267.jpg']\n",
            "['dog.929.jpg', 'dog.33.jpg', 'dog.805.jpg', 'dog.318.jpg', 'dog.939.jpg', 'dog.309.jpg', 'dog.126.jpg', 'dog.723.jpg', 'dog.781.jpg', 'dog.698.jpg']\n"
          ],
          "name": "stdout"
        }
      ]
    },
    {
      "cell_type": "code",
      "metadata": {
        "id": "zPuG7ZTVsGab"
      },
      "source": [
        "%matplotlib inline\n",
        "\n",
        "import matplotlib.pyplot as plt\n",
        "import matplotlib.image as mpimg\n",
        "\n",
        "nrows = 4\n",
        "ncols = 4\n",
        "\n",
        "pic_index = 0"
      ],
      "execution_count": 16,
      "outputs": []
    },
    {
      "cell_type": "code",
      "metadata": {
        "colab": {
          "base_uri": "https://localhost:8080/",
          "height": 901
        },
        "id": "3og5bbyVst8r",
        "outputId": "f2088b69-3898-4578-9cf6-423f6a772d36"
      },
      "source": [
        "fig = plt.gcf()\n",
        "fig.set_size_inches(ncols*4, nrows*4)\n",
        "\n",
        "pic_index+=8\n",
        "\n",
        "next_cat_pix = [os.path.join(train_cats_dir, fname) \n",
        "                for fname in train_cat_fnames[ pic_index-8:pic_index] \n",
        "               ]\n",
        "\n",
        "next_dog_pix = [os.path.join(train_dogs_dir, fname) \n",
        "                for fname in train_dog_fnames[ pic_index-8:pic_index]\n",
        "               ]\n",
        "\n",
        "for i, img_path in enumerate(next_cat_pix+next_dog_pix):\n",
        "  # Set up subplot; subplot indices start at 1\n",
        "  sp = plt.subplot(nrows, ncols, i + 1)\n",
        "  sp.axis('Off') # Don't show axes (or gridlines)\n",
        "\n",
        "  img = mpimg.imread(img_path)\n",
        "  # plt.imshow(img)\n",
        "\n",
        "# plt.show()"
      ],
      "execution_count": 17,
      "outputs": [
        {
          "output_type": "display_data",
          "data": {
            "image/png": "[encoded data removed]",
            "text/plain": [
              "<Figure size 1152x1152 with 16 Axes>"
            ]
          },
          "metadata": {
            "tags": [],
            "needs_background": "light"
          }
        }
      ]
    },
    {
      "cell_type": "code",
      "metadata": {
        "id": "AmiUOLpotjB5"
      },
      "source": [
        "import tensorflow as tf\n",
        "\n",
        "model = tf.keras.models.Sequential([\n",
        "                                    tf.keras.layers.Conv2D(16, (3,3), activation=tf.nn.relu, input_shape=(150,150,3)),\n",
        "                                    tf.keras.layers.MaxPooling2D((2,2)),\n",
        "                                    tf.keras.layers.Conv2D(32, (3,3), activation=tf.nn.relu),\n",
        "                                    tf.keras.layers.MaxPooling2D((2,2)),\n",
        "                                    tf.keras.layers.Conv2D(64, (3,3), activation=tf.nn.relu),\n",
        "                                    tf.keras.layers.MaxPooling2D((2,2)),\n",
        "                                    tf.keras.layers.Flatten(),\n",
        "                                    tf.keras.layers.Dense(512, activation=tf.nn.relu),\n",
        "                                    tf.keras.layers.Dense(1, activation=tf.nn.sigmoid)\n",
        "])"
      ],
      "execution_count": 18,
      "outputs": []
    },
    {
      "cell_type": "code",
      "metadata": {
        "colab": {
          "base_uri": "https://localhost:8080/"
        },
        "id": "2nreugMqxLV4",
        "outputId": "3fc10ac5-06a4-41c1-88b0-55cc25920a21"
      },
      "source": [
        "model.summary()"
      ],
      "execution_count": 19,
      "outputs": [
        {
          "output_type": "stream",
          "text": [
            "Model: \"sequential_1\"\n",
            "_________________________________________________________________\n",
            "Layer (type)                 Output Shape              Param #   \n",
            "=================================================================\n",
            "conv2d_3 (Conv2D)            (None, 148, 148, 16)      448       \n",
            "_________________________________________________________________\n",
            "max_pooling2d_3 (MaxPooling2 (None, 74, 74, 16)        0         \n",
            "_________________________________________________________________\n",
            "conv2d_4 (Conv2D)            (None, 72, 72, 32)        4640      \n",
            "_________________________________________________________________\n",
            "max_pooling2d_4 (MaxPooling2 (None, 36, 36, 32)        0         \n",
            "_________________________________________________________________\n",
            "conv2d_5 (Conv2D)            (None, 34, 34, 64)        18496     \n",
            "_________________________________________________________________\n",
            "max_pooling2d_5 (MaxPooling2 (None, 17, 17, 64)        0         \n",
            "_________________________________________________________________\n",
            "flatten_1 (Flatten)          (None, 18496)             0         \n",
            "_________________________________________________________________\n",
            "dense_2 (Dense)              (None, 512)               9470464   \n",
            "_________________________________________________________________\n",
            "dense_3 (Dense)              (None, 1)                 513       \n",
            "=================================================================\n",
            "Total params: 9,494,561\n",
            "Trainable params: 9,494,561\n",
            "Non-trainable params: 0\n",
            "_________________________________________________________________\n"
          ],
          "name": "stdout"
        }
      ]
    },
    {
      "cell_type": "code",
      "metadata": {
        "id": "IrRiw2p3xq_Z"
      },
      "source": [
        "from tensorflow.keras.optimizers import RMSprop\n",
        "\n",
        "model.compile(optimizer=RMSprop(lr=0.001),\n",
        "              loss=tf.keras.losses.binary_crossentropy,\n",
        "              metrics=['accuracy'])"
      ],
      "execution_count": 20,
      "outputs": []
    },
    {
      "cell_type": "code",
      "metadata": {
        "colab": {
          "base_uri": "https://localhost:8080/"
        },
        "id": "cy77ZRe6yY4e",
        "outputId": "b10fab77-0f69-4804-c4af-e2d6d3c308aa"
      },
      "source": [
        "from tensorflow.keras.preprocessing.image import ImageDataGenerator\n",
        "\n",
        "train_datagen = ImageDataGenerator( rescale = 1.0/255. )\n",
        "test_datagen = ImageDataGenerator( rescale = 1.0/255. )\n",
        "\n",
        "train_generator =  train_datagen.flow_from_directory(train_dir,\n",
        "                                                     batch_size=20,\n",
        "                                                     class_mode='binary',\n",
        "                                                     target_size=(150,150))\n",
        "\n",
        "validation_generator = test_datagen.flow_from_directory(validation_dir,\n",
        "                                                        batch_size=20,\n",
        "                                                        class_mode='binary',\n",
        "                                                        target_size=(150,150))"
      ],
      "execution_count": 21,
      "outputs": [
        {
          "output_type": "stream",
          "text": [
            "Found 2000 images belonging to 2 classes.\n",
            "Found 1000 images belonging to 2 classes.\n"
          ],
          "name": "stdout"
        }
      ]
    },
    {
      "cell_type": "code",
      "metadata": {
        "colab": {
          "base_uri": "https://localhost:8080/"
        },
        "id": "ulW6uzLn4PNe",
        "outputId": "720e69e5-deb9-4152-dac8-a2d8073fda88"
      },
      "source": [
        "history = model.fit(train_generator,\n",
        "                      validation_data=validation_generator,\n",
        "                      steps_per_epoch=100,\n",
        "                      epochs=15,\n",
        "                      validation_steps=50,\n",
        "                      verbose=2)"
      ],
      "execution_count": 22,
      "outputs": [
        {
          "output_type": "stream",
          "text": [
            "Epoch 1/15\n",
            "100/100 - 10s - loss: 0.7020 - accuracy: 0.5750 - val_loss: 0.6386 - val_accuracy: 0.6560\n",
            "Epoch 2/15\n",
            "100/100 - 9s - loss: 0.6122 - accuracy: 0.6835 - val_loss: 0.5728 - val_accuracy: 0.7080\n",
            "Epoch 3/15\n",
            "100/100 - 9s - loss: 0.5302 - accuracy: 0.7475 - val_loss: 0.5496 - val_accuracy: 0.7240\n",
            "Epoch 4/15\n",
            "100/100 - 9s - loss: 0.4377 - accuracy: 0.8020 - val_loss: 0.5869 - val_accuracy: 0.7130\n",
            "Epoch 5/15\n",
            "100/100 - 9s - loss: 0.3522 - accuracy: 0.8365 - val_loss: 0.6122 - val_accuracy: 0.7190\n",
            "Epoch 6/15\n",
            "100/100 - 9s - loss: 0.2693 - accuracy: 0.8910 - val_loss: 0.8010 - val_accuracy: 0.7110\n",
            "Epoch 7/15\n",
            "100/100 - 9s - loss: 0.1965 - accuracy: 0.9205 - val_loss: 0.9250 - val_accuracy: 0.6890\n",
            "Epoch 8/15\n",
            "100/100 - 9s - loss: 0.1437 - accuracy: 0.9460 - val_loss: 0.8581 - val_accuracy: 0.7330\n",
            "Epoch 9/15\n",
            "100/100 - 8s - loss: 0.0821 - accuracy: 0.9685 - val_loss: 1.0731 - val_accuracy: 0.7230\n",
            "Epoch 10/15\n",
            "100/100 - 9s - loss: 0.0697 - accuracy: 0.9745 - val_loss: 1.2752 - val_accuracy: 0.6980\n",
            "Epoch 11/15\n",
            "100/100 - 9s - loss: 0.0532 - accuracy: 0.9835 - val_loss: 1.4241 - val_accuracy: 0.7110\n",
            "Epoch 12/15\n",
            "100/100 - 9s - loss: 0.0557 - accuracy: 0.9815 - val_loss: 1.5684 - val_accuracy: 0.7120\n",
            "Epoch 13/15\n",
            "100/100 - 9s - loss: 0.0656 - accuracy: 0.9855 - val_loss: 1.6975 - val_accuracy: 0.7200\n",
            "Epoch 14/15\n",
            "100/100 - 9s - loss: 0.0419 - accuracy: 0.9885 - val_loss: 1.7094 - val_accuracy: 0.7290\n",
            "Epoch 15/15\n",
            "100/100 - 9s - loss: 0.0738 - accuracy: 0.9830 - val_loss: 1.9191 - val_accuracy: 0.7060\n"
          ],
          "name": "stdout"
        }
      ]
    },
    {
      "cell_type": "code",
      "metadata": {
        "colab": {
          "base_uri": "https://localhost:8080/",
          "height": 562
        },
        "id": "XNv1ENIH7Bv2",
        "outputId": "fb3a355f-5c28-46d7-cd29-3ae1bc63451e"
      },
      "source": [
        "acc = history.history['accuracy'] # train accuracy\n",
        "val_acc = history.history[ 'val_accuracy'] # validation accuracy\n",
        "loss = history.history[ 'loss']\n",
        "val_loss = history.history[ 'val_loss']\n",
        "\n",
        "epochs = range(len(acc))\n",
        "\n",
        "# Plot Training and Validation accuracy per epoch\n",
        "plt.plot(epochs, acc)\n",
        "plt.plot(epochs, val_acc)\n",
        "plt.title('Training and Validation accuracy per epoch')\n",
        "plt.figure()\n",
        "\n",
        "# Plot Training and Validation loss per epoch\n",
        "plt.plot(epochs, loss)\n",
        "plt.plot(epochs, val_loss)\n",
        "plt.title('Training and Validation loss per epoch')"
      ],
      "execution_count": 40,
      "outputs": [
        {
          "output_type": "execute_result",
          "data": {
            "text/plain": [
              "Text(0.5, 1.0, 'Training and Validation loss per epoch')"
            ]
          },
          "metadata": {
            "tags": []
          },
          "execution_count": 40
        },
        {
          "output_type": "display_data",
          "data": {
            "image/png": "[encoded data removed]",
            "text/plain": [
              "<Figure size 432x288 with 1 Axes>"
            ]
          },
          "metadata": {
            "tags": [],
            "needs_background": "light"
          }
        },
        {
          "output_type": "display_data",
          "data": {
            "image/png": "[encoded data removed]",
            "text/plain": [
              "<Figure size 432x288 with 1 Axes>"
            ]
          },
          "metadata": {
            "tags": [],
            "needs_background": "light"
          }
        }
      ]
    },
    {
      "cell_type": "code",
      "metadata": {
        "id": "pp8mNgdYAZRN"
      },
      "source": [
        "#import os, signal\n",
        "#os.kill(os.getpid(), signal.SIGKILL)"
      ],
      "execution_count": null,
      "outputs": []
    }
  ]
}