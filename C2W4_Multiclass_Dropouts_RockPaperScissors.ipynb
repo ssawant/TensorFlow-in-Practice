{
  "nbformat": 4,
  "nbformat_minor": 0,
  "metadata": {
    "accelerator": "GPU",
    "colab": {
      "name": "C2W4_Multiclass_Dropouts_RockPaperScissors.ipynb",
      "provenance": [],
      "authorship_tag": "ABX9TyNWfykD/Ln8W4QVaypRTgRV",
      "include_colab_link": true
    },
    "kernelspec": {
      "display_name": "Python 3",
      "name": "python3"
    }
  },
  "cells": [
    {
      "cell_type": "markdown",
      "metadata": {
        "id": "view-in-github",
        "colab_type": "text"
      },
      "source": [
        "<a href=\"https://colab.research.google.com/github/ssawant/TensorFlow-in-Practice/blob/main/C2W4_Multiclass_Dropouts_RockPaperScissors.ipynb\" target=\"_parent\"><img src=\"https://colab.research.google.com/assets/colab-badge.svg\" alt=\"Open In Colab\"/></a>"
      ]
    },
    {
      "cell_type": "code",
      "metadata": {
        "colab": {
          "base_uri": "https://localhost:8080/"
        },
        "id": "p7PqnW-PyqcX",
        "outputId": "fd5858fa-644e-43b4-9cbc-343744a1dddf"
      },
      "source": [
        "!wget --no-check-certificate \\\n",
        "    https://storage.googleapis.com/laurencemoroney-blog.appspot.com/rps.zip \\\n",
        "    -O /tmp/rps.zip\n",
        "  \n",
        "!wget --no-check-certificate \\\n",
        "    https://storage.googleapis.com/laurencemoroney-blog.appspot.com/rps-test-set.zip \\\n",
        "    -O /tmp/rps-test-set.zip"
      ],
      "execution_count": 2,
      "outputs": [
        {
          "output_type": "stream",
          "text": [
            "--2020-12-23 08:44:54--  https://storage.googleapis.com/laurencemoroney-blog.appspot.com/rps.zip\n",
            "Resolving storage.googleapis.com (storage.googleapis.com)... 142.250.31.128, 172.217.13.80, 172.217.13.240, ...\n",
            "Connecting to storage.googleapis.com (storage.googleapis.com)|142.250.31.128|:443... connected.\n",
            "HTTP request sent, awaiting response... 200 OK\n",
            "Length: 200682221 (191M) [application/zip]\n",
            "Saving to: ‘/tmp/rps.zip’\n",
            "\n",
            "/tmp/rps.zip        100%[===================>] 191.38M   284MB/s    in 0.7s    \n",
            "\n",
            "2020-12-23 08:44:55 (284 MB/s) - ‘/tmp/rps.zip’ saved [200682221/200682221]\n",
            "\n",
            "--2020-12-23 08:44:55--  https://storage.googleapis.com/laurencemoroney-blog.appspot.com/rps-test-set.zip\n",
            "Resolving storage.googleapis.com (storage.googleapis.com)... 172.217.2.112, 172.253.115.128, 142.250.73.208, ...\n",
            "Connecting to storage.googleapis.com (storage.googleapis.com)|172.217.2.112|:443... connected.\n",
            "HTTP request sent, awaiting response... 200 OK\n",
            "Length: 29516758 (28M) [application/zip]\n",
            "Saving to: ‘/tmp/rps-test-set.zip’\n",
            "\n",
            "/tmp/rps-test-set.z 100%[===================>]  28.15M   129MB/s    in 0.2s    \n",
            "\n",
            "2020-12-23 08:44:56 (129 MB/s) - ‘/tmp/rps-test-set.zip’ saved [29516758/29516758]\n",
            "\n"
          ],
          "name": "stdout"
        }
      ]
    },
    {
      "cell_type": "code",
      "metadata": {
        "colab": {
          "base_uri": "https://localhost:8080/"
        },
        "id": "9GAYs4H2zPq1",
        "outputId": "c28d4cad-7d46-47b8-a56a-7c3be715c11e"
      },
      "source": [
        "import os,zipfile\n",
        "\n",
        "local_zip = '/tmp/rps.zip'\n",
        "zip_ref = zipfile.ZipFile(local_zip, 'r')\n",
        "zip_ref.extractall('/tmp')\n",
        "\n",
        "local_zip = '/tmp/rps-test-set.zip'\n",
        "zip_ref = zipfile.ZipFile(local_zip, 'r')\n",
        "zip_ref.extractall('/tmp')\n",
        "zip_ref.close()\n",
        "\n",
        "rock_dir = os.path.join('/tmp/rps/rock')\n",
        "paper_dir = os.path.join('/tmp/rps/paper')\n",
        "scissors_dir = os.path.join('/tmp/rps/scissors')\n",
        "\n",
        "print(f'rock: {len(os.listdir(rock_dir))}, paper: {len(os.listdir(paper_dir))}, scissors: {len(os.listdir(scissors_dir))}')"
      ],
      "execution_count": 3,
      "outputs": [
        {
          "output_type": "stream",
          "text": [
            "rock: 840, paper: 840, scissors: 840\n"
          ],
          "name": "stdout"
        }
      ]
    },
    {
      "cell_type": "code",
      "metadata": {
        "colab": {
          "base_uri": "https://localhost:8080/"
        },
        "id": "XNkLeazQ000f",
        "outputId": "f4b0a485-38d4-4596-f809-495d27080bcf"
      },
      "source": [
        "import tensorflow as tf\n",
        "from tensorflow.keras.preprocessing.image import ImageDataGenerator\n",
        "\n",
        "TRAINING_DIR = '/tmp/rps'\n",
        "VALIDATION_DIR = '/tmp/rps-test-set'\n",
        "\n",
        "train_datagen = ImageDataGenerator(\n",
        "    rescale = 1./255.,\n",
        "    rotation_range = 40,\n",
        "    width_shift_range = 0.2,\n",
        "    height_shift_range = 0.2,\n",
        "    horizontal_flip = True,\n",
        "    shear_range = 0.2,\n",
        "    zoom_range = 0.2,\n",
        "    fill_mode = 'nearest'\n",
        ")\n",
        "\n",
        "validation_datagen = ImageDataGenerator(\n",
        "    rescale = 1./255.\n",
        ")\n",
        "\n",
        "train_generator = train_datagen.flow_from_directory(\n",
        "    TRAINING_DIR, \n",
        "    target_size=(150,150),\n",
        "    class_mode = 'categorical',\n",
        "    batch_size=126\n",
        "    )\n",
        "\n",
        "validation_generator = validation_datagen.flow_from_directory(\n",
        "    VALIDATION_DIR, \n",
        "    target_size=(150,150),\n",
        "    class_mode = 'categorical',\n",
        "    batch_size=126\n",
        "    )\n",
        "\n",
        "model = tf.keras.models.Sequential([\n",
        "                                    tf.keras.layers.Conv2D(64, (3,3), activation=tf.nn.relu, input_shape=(150,150, 3)),\n",
        "                                    tf.keras.layers.MaxPooling2D((2,2)),\n",
        "                                    tf.keras.layers.Conv2D(64, (3,3), activation=tf.nn.relu),\n",
        "                                    tf.keras.layers.MaxPooling2D((2,2)),\n",
        "                                    tf.keras.layers.Conv2D(128, (3,3), activation=tf.nn.relu),\n",
        "                                    tf.keras.layers.MaxPooling2D((2,2)),\n",
        "                                    tf.keras.layers.Conv2D(128, (3,3), activation=tf.nn.relu),\n",
        "                                    tf.keras.layers.MaxPooling2D((2,2)),\n",
        "                                    tf.keras.layers.Flatten(),\n",
        "                                    tf.keras.layers.Dense(512, activation=tf.nn.relu),\n",
        "                                    tf.keras.layers.Dense(3, activation=tf.nn.softmax)\n",
        "])\n",
        "\n",
        "model.summary()\n"
      ],
      "execution_count": 4,
      "outputs": [
        {
          "output_type": "stream",
          "text": [
            "Found 2520 images belonging to 3 classes.\n",
            "Found 372 images belonging to 3 classes.\n",
            "Model: \"sequential\"\n",
            "_________________________________________________________________\n",
            "Layer (type)                 Output Shape              Param #   \n",
            "=================================================================\n",
            "conv2d (Conv2D)              (None, 148, 148, 64)      1792      \n",
            "_________________________________________________________________\n",
            "max_pooling2d (MaxPooling2D) (None, 74, 74, 64)        0         \n",
            "_________________________________________________________________\n",
            "conv2d_1 (Conv2D)            (None, 72, 72, 64)        36928     \n",
            "_________________________________________________________________\n",
            "max_pooling2d_1 (MaxPooling2 (None, 36, 36, 64)        0         \n",
            "_________________________________________________________________\n",
            "conv2d_2 (Conv2D)            (None, 34, 34, 128)       73856     \n",
            "_________________________________________________________________\n",
            "max_pooling2d_2 (MaxPooling2 (None, 17, 17, 128)       0         \n",
            "_________________________________________________________________\n",
            "conv2d_3 (Conv2D)            (None, 15, 15, 128)       147584    \n",
            "_________________________________________________________________\n",
            "max_pooling2d_3 (MaxPooling2 (None, 7, 7, 128)         0         \n",
            "_________________________________________________________________\n",
            "flatten (Flatten)            (None, 6272)              0         \n",
            "_________________________________________________________________\n",
            "dense (Dense)                (None, 512)               3211776   \n",
            "_________________________________________________________________\n",
            "dense_1 (Dense)              (None, 3)                 1539      \n",
            "=================================================================\n",
            "Total params: 3,473,475\n",
            "Trainable params: 3,473,475\n",
            "Non-trainable params: 0\n",
            "_________________________________________________________________\n"
          ],
          "name": "stdout"
        }
      ]
    },
    {
      "cell_type": "code",
      "metadata": {
        "colab": {
          "base_uri": "https://localhost:8080/"
        },
        "id": "jjo9BW2Y4i52",
        "outputId": "735a798f-8564-445b-9cd4-570133dddab0"
      },
      "source": [
        "model.compile(optimizer=tf.optimizers.RMSprop(lr=1e-04), loss=tf.losses.categorical_crossentropy, metrics=['accuracy'])\n",
        "history = model.fit(train_generator, epochs=25, steps_per_epoch=20, validation_data = validation_generator, verbose = 1, validation_steps=3)"
      ],
      "execution_count": 5,
      "outputs": [
        {
          "output_type": "stream",
          "text": [
            "Epoch 1/25\n",
            "20/20 [==============================] - 27s 972ms/step - loss: 1.1157 - accuracy: 0.3508 - val_loss: 1.0438 - val_accuracy: 0.6022\n",
            "Epoch 2/25\n",
            "20/20 [==============================] - 19s 961ms/step - loss: 1.0512 - accuracy: 0.4584 - val_loss: 0.9802 - val_accuracy: 0.3414\n",
            "Epoch 3/25\n",
            "20/20 [==============================] - 19s 962ms/step - loss: 0.9771 - accuracy: 0.5184 - val_loss: 0.8109 - val_accuracy: 0.7984\n",
            "Epoch 4/25\n",
            "20/20 [==============================] - 19s 956ms/step - loss: 0.8979 - accuracy: 0.5917 - val_loss: 0.7334 - val_accuracy: 0.8360\n",
            "Epoch 5/25\n",
            "20/20 [==============================] - 19s 970ms/step - loss: 0.8249 - accuracy: 0.6406 - val_loss: 0.6022 - val_accuracy: 0.8710\n",
            "Epoch 6/25\n",
            "20/20 [==============================] - 19s 952ms/step - loss: 0.7482 - accuracy: 0.6756 - val_loss: 0.5486 - val_accuracy: 0.7876\n",
            "Epoch 7/25\n",
            "20/20 [==============================] - 19s 961ms/step - loss: 0.6674 - accuracy: 0.7522 - val_loss: 0.5958 - val_accuracy: 0.7177\n",
            "Epoch 8/25\n",
            "20/20 [==============================] - 19s 956ms/step - loss: 0.6499 - accuracy: 0.7156 - val_loss: 0.4066 - val_accuracy: 0.9140\n",
            "Epoch 9/25\n",
            "20/20 [==============================] - 19s 950ms/step - loss: 0.5996 - accuracy: 0.7549 - val_loss: 0.3685 - val_accuracy: 0.8844\n",
            "Epoch 10/25\n",
            "20/20 [==============================] - 19s 952ms/step - loss: 0.5434 - accuracy: 0.7877 - val_loss: 0.4049 - val_accuracy: 0.8387\n",
            "Epoch 11/25\n",
            "20/20 [==============================] - 19s 957ms/step - loss: 0.5740 - accuracy: 0.7653 - val_loss: 0.7113 - val_accuracy: 0.6720\n",
            "Epoch 12/25\n",
            "20/20 [==============================] - 19s 952ms/step - loss: 0.5594 - accuracy: 0.7456 - val_loss: 0.2379 - val_accuracy: 0.9758\n",
            "Epoch 13/25\n",
            "20/20 [==============================] - 19s 953ms/step - loss: 0.4646 - accuracy: 0.8210 - val_loss: 0.4033 - val_accuracy: 0.7769\n",
            "Epoch 14/25\n",
            "20/20 [==============================] - 19s 950ms/step - loss: 0.4246 - accuracy: 0.8530 - val_loss: 0.2677 - val_accuracy: 0.8710\n",
            "Epoch 15/25\n",
            "20/20 [==============================] - 19s 952ms/step - loss: 0.4420 - accuracy: 0.8227 - val_loss: 0.1816 - val_accuracy: 0.9892\n",
            "Epoch 16/25\n",
            "20/20 [==============================] - 19s 951ms/step - loss: 0.3903 - accuracy: 0.8519 - val_loss: 0.1867 - val_accuracy: 0.9624\n",
            "Epoch 17/25\n",
            "20/20 [==============================] - 19s 958ms/step - loss: 0.4016 - accuracy: 0.8467 - val_loss: 0.1812 - val_accuracy: 0.9516\n",
            "Epoch 18/25\n",
            "20/20 [==============================] - 19s 965ms/step - loss: 0.3529 - accuracy: 0.8681 - val_loss: 0.1664 - val_accuracy: 0.9677\n",
            "Epoch 19/25\n",
            "20/20 [==============================] - 20s 983ms/step - loss: 0.3618 - accuracy: 0.8432 - val_loss: 0.1811 - val_accuracy: 0.9462\n",
            "Epoch 20/25\n",
            "20/20 [==============================] - 20s 981ms/step - loss: 0.3084 - accuracy: 0.9012 - val_loss: 0.2111 - val_accuracy: 0.9113\n",
            "Epoch 21/25\n",
            "20/20 [==============================] - 19s 971ms/step - loss: 0.2880 - accuracy: 0.8927 - val_loss: 0.1240 - val_accuracy: 0.9785\n",
            "Epoch 22/25\n",
            "20/20 [==============================] - 19s 952ms/step - loss: 0.2922 - accuracy: 0.8901 - val_loss: 0.1038 - val_accuracy: 0.9731\n",
            "Epoch 23/25\n",
            "20/20 [==============================] - 19s 957ms/step - loss: 0.2865 - accuracy: 0.8960 - val_loss: 0.1339 - val_accuracy: 0.9651\n",
            "Epoch 24/25\n",
            "20/20 [==============================] - 19s 959ms/step - loss: 0.2967 - accuracy: 0.8945 - val_loss: 0.1314 - val_accuracy: 0.9570\n",
            "Epoch 25/25\n",
            "20/20 [==============================] - 19s 961ms/step - loss: 0.2540 - accuracy: 0.9194 - val_loss: 0.1782 - val_accuracy: 0.9167\n"
          ],
          "name": "stdout"
        }
      ]
    },
    {
      "cell_type": "code",
      "metadata": {
        "colab": {
          "base_uri": "https://localhost:8080/",
          "height": 545
        },
        "id": "eMHIu74x50ye",
        "outputId": "9df90cf2-bea3-46cc-805c-12bdb240ed7d"
      },
      "source": [
        "import matplotlib.pyplot as plt\n",
        "acc = history.history['accuracy']\n",
        "val_acc = history.history['val_accuracy']\n",
        "loss = history.history['loss']\n",
        "val_loss = history.history['val_loss']\n",
        "\n",
        "epochs = range(len(acc))\n",
        "plt.plot(epochs, acc, 'r', label='Training accuracy')\n",
        "plt.plot(epochs, val_acc, 'b', label='Validation accuracy')\n",
        "plt.title('Training and Validation accuracy')\n",
        "plt.legend()\n",
        "plt.figure()\n",
        "\n",
        "plt.plot(epochs, loss, 'r', label='Training loss')\n",
        "plt.plot(epochs, val_loss, 'b', label='Validation loss')\n",
        "plt.title('Training and Validation loss')\n",
        "plt.legend()\n",
        "plt.show()"
      ],
      "execution_count": 7,
      "outputs": [
        {
          "output_type": "display_data",
          "data": {
            "image/png": "[encoded data removed]",
            "text/plain": [
              "<Figure size 432x288 with 1 Axes>"
            ]
          },
          "metadata": {
            "tags": [],
            "needs_background": "light"
          }
        },
        {
          "output_type": "display_data",
          "data": {
            "image/png": "[encoded data removed]",
            "text/plain": [
              "<Figure size 432x288 with 1 Axes>"
            ]
          },
          "metadata": {
            "tags": [],
            "needs_background": "light"
          }
        }
      ]
    }
  ]
}