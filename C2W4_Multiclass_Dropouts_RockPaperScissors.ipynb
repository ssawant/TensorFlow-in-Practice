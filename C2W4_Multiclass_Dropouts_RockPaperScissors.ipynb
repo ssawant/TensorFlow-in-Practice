{
  "nbformat": 4,
  "nbformat_minor": 0,
  "metadata": {
    "colab": {
      "name": "C2W4_Multiclass_Dropouts_RockPaperScissors.ipynb",
      "provenance": [],
      "authorship_tag": "ABX9TyOnw1Uu16SBmPjFHAzWMKqK",
      "include_colab_link": true
    },
    "kernelspec": {
      "name": "python3",
      "display_name": "Python 3"
    },
    "accelerator": "GPU"
  },
  "cells": [
    {
      "cell_type": "markdown",
      "metadata": {
        "id": "view-in-github",
        "colab_type": "text"
      },
      "source": [
        "<a href=\"https://colab.research.google.com/github/ssawant/TensorFlow-in-Practice/blob/main/C2W4_Multiclass_Dropouts_RockPaperScissors.ipynb\" target=\"_parent\"><img src=\"https://colab.research.google.com/assets/colab-badge.svg\" alt=\"Open In Colab\"/></a>"
      ]
    },
    {
      "cell_type": "code",
      "metadata": {
        "colab": {
          "base_uri": "https://localhost:8080/"
        },
        "id": "p7PqnW-PyqcX",
        "outputId": "1a6ac9aa-892c-424c-d50c-d1f464581b99"
      },
      "source": [
        "!wget --no-check-certificate \\\n",
        "    https://storage.googleapis.com/laurencemoroney-blog.appspot.com/rps.zip \\\n",
        "    -O /tmp/rps.zip\n",
        "  \n",
        "!wget --no-check-certificate \\\n",
        "    https://storage.googleapis.com/laurencemoroney-blog.appspot.com/rps-test-set.zip \\\n",
        "    -O /tmp/rps-test-set.zip"
      ],
      "execution_count": 2,
      "outputs": [
        {
          "output_type": "stream",
          "text": [
            "--2020-12-23 04:46:34--  https://storage.googleapis.com/laurencemoroney-blog.appspot.com/rps.zip\n",
            "Resolving storage.googleapis.com (storage.googleapis.com)... 74.125.20.128, 74.125.195.128, 172.253.117.128, ...\n",
            "Connecting to storage.googleapis.com (storage.googleapis.com)|74.125.20.128|:443... connected.\n",
            "HTTP request sent, awaiting response... 200 OK\n",
            "Length: 200682221 (191M) [application/zip]\n",
            "Saving to: ‘/tmp/rps.zip’\n",
            "\n",
            "/tmp/rps.zip        100%[===================>] 191.38M   102MB/s    in 1.9s    \n",
            "\n",
            "2020-12-23 04:46:37 (102 MB/s) - ‘/tmp/rps.zip’ saved [200682221/200682221]\n",
            "\n",
            "--2020-12-23 04:46:37--  https://storage.googleapis.com/laurencemoroney-blog.appspot.com/rps-test-set.zip\n",
            "Resolving storage.googleapis.com (storage.googleapis.com)... 74.125.195.128, 74.125.142.128, 74.125.20.128, ...\n",
            "Connecting to storage.googleapis.com (storage.googleapis.com)|74.125.195.128|:443... connected.\n",
            "HTTP request sent, awaiting response... 200 OK\n",
            "Length: 29516758 (28M) [application/zip]\n",
            "Saving to: ‘/tmp/rps-test-set.zip’\n",
            "\n",
            "/tmp/rps-test-set.z 100%[===================>]  28.15M  59.8MB/s    in 0.5s    \n",
            "\n",
            "2020-12-23 04:46:37 (59.8 MB/s) - ‘/tmp/rps-test-set.zip’ saved [29516758/29516758]\n",
            "\n"
          ],
          "name": "stdout"
        }
      ]
    },
    {
      "cell_type": "code",
      "metadata": {
        "colab": {
          "base_uri": "https://localhost:8080/"
        },
        "id": "9GAYs4H2zPq1",
        "outputId": "e4596aee-e792-49f3-970f-aaa8a837c5fb"
      },
      "source": [
        "import os,zipfile\n",
        "\n",
        "local_zip = '/tmp/rps.zip'\n",
        "zip_ref = zipfile.ZipFile(local_zip, 'r')\n",
        "zip_ref.extractall('/tmp')\n",
        "\n",
        "local_zip = '/tmp/rps-test-set.zip'\n",
        "zip_ref = zipfile.ZipFile(local_zip, 'r')\n",
        "zip_ref.extractall('/tmp')\n",
        "zip_ref.close()\n",
        "\n",
        "rock_dir = os.path.join('/tmp/rps/rock')\n",
        "paper_dir = os.path.join('/tmp/rps/paper')\n",
        "scissors_dir = os.path.join('/tmp/rps/scissors')\n",
        "\n",
        "print(f'rock: {len(os.listdir(rock_dir))}, paper: {len(os.listdir(paper_dir))}, scissors: {len(os.listdir(scissors_dir))}')"
      ],
      "execution_count": 3,
      "outputs": [
        {
          "output_type": "stream",
          "text": [
            "rock: 840, paper: 840, scissors: 840\n"
          ],
          "name": "stdout"
        }
      ]
    },
    {
      "cell_type": "code",
      "metadata": {
        "colab": {
          "base_uri": "https://localhost:8080/"
        },
        "id": "XNkLeazQ000f",
        "outputId": "bae940d3-c638-4385-dc73-a86eba8de608"
      },
      "source": [
        "import tensorflow as tf\n",
        "from tensorflow.keras.preprocessing.image import ImageDataGenerator\n",
        "\n",
        "TRAINING_DIR = '/tmp/rps'\n",
        "VALIDATION_DIR = '/tmp/rps-test-set'\n",
        "\n",
        "train_datagen = ImageDataGenerator(\n",
        "    rescale = 1./255.,\n",
        "    rotation_range = 40,\n",
        "    width_shift_range = 0.2,\n",
        "    height_shift_range = 0.2,\n",
        "    horizontal_flip = True,\n",
        "    shear_range = 0.2,\n",
        "    zoom_range = 0.2,\n",
        "    fill_mode = 'nearest'\n",
        ")\n",
        "\n",
        "validation_datagen = ImageDataGenerator(\n",
        "    rescale = 1./255.\n",
        ")\n",
        "\n",
        "train_generator = train_datagen.flow_from_directory(\n",
        "    TRAINING_DIR, \n",
        "    target_size=(150,150),\n",
        "    class_mode = 'categorical',\n",
        "    batch_size=126\n",
        "    )\n",
        "\n",
        "validation_generator = validation_datagen.flow_from_directory(\n",
        "    VALIDATION_DIR, \n",
        "    target_size=(150,150),\n",
        "    class_mode = 'categorical',\n",
        "    batch_size=126\n",
        "    )\n",
        "\n",
        "model = tf.keras.models.Sequential([\n",
        "                                    tf.keras.layers.Conv2D(64, (3,3), activation=tf.nn.relu, input_shape=(150,150, 3)),\n",
        "                                    tf.keras.layers.MaxPooling2D((2,2)),\n",
        "                                    tf.keras.layers.Conv2D(64, (3,3), activation=tf.nn.relu),\n",
        "                                    tf.keras.layers.MaxPooling2D((2,2)),\n",
        "                                    tf.keras.layers.Conv2D(128, (3,3), activation=tf.nn.relu),\n",
        "                                    tf.keras.layers.MaxPooling2D((2,2)),\n",
        "                                    tf.keras.layers.Conv2D(128, (3,3), activation=tf.nn.relu),\n",
        "                                    tf.keras.layers.MaxPooling2D((2,2)),\n",
        "                                    tf.keras.layers.Flatten(),\n",
        "                                    tf.keras.layers.Dense(512, activation=tf.nn.relu),\n",
        "                                    tf.keras.layers.Dense(3, activation=tf.nn.softmax)\n",
        "])\n",
        "\n",
        "model.summary()\n"
      ],
      "execution_count": 4,
      "outputs": [
        {
          "output_type": "stream",
          "text": [
            "Found 2520 images belonging to 3 classes.\n",
            "Found 372 images belonging to 3 classes.\n",
            "Model: \"sequential\"\n",
            "_________________________________________________________________\n",
            "Layer (type)                 Output Shape              Param #   \n",
            "=================================================================\n",
            "conv2d (Conv2D)              (None, 148, 148, 64)      1792      \n",
            "_________________________________________________________________\n",
            "max_pooling2d (MaxPooling2D) (None, 74, 74, 64)        0         \n",
            "_________________________________________________________________\n",
            "conv2d_1 (Conv2D)            (None, 72, 72, 64)        36928     \n",
            "_________________________________________________________________\n",
            "max_pooling2d_1 (MaxPooling2 (None, 36, 36, 64)        0         \n",
            "_________________________________________________________________\n",
            "conv2d_2 (Conv2D)            (None, 34, 34, 128)       73856     \n",
            "_________________________________________________________________\n",
            "max_pooling2d_2 (MaxPooling2 (None, 17, 17, 128)       0         \n",
            "_________________________________________________________________\n",
            "conv2d_3 (Conv2D)            (None, 15, 15, 128)       147584    \n",
            "_________________________________________________________________\n",
            "max_pooling2d_3 (MaxPooling2 (None, 7, 7, 128)         0         \n",
            "_________________________________________________________________\n",
            "flatten (Flatten)            (None, 6272)              0         \n",
            "_________________________________________________________________\n",
            "dense (Dense)                (None, 512)               3211776   \n",
            "_________________________________________________________________\n",
            "dense_1 (Dense)              (None, 3)                 1539      \n",
            "=================================================================\n",
            "Total params: 3,473,475\n",
            "Trainable params: 3,473,475\n",
            "Non-trainable params: 0\n",
            "_________________________________________________________________\n"
          ],
          "name": "stdout"
        }
      ]
    },
    {
      "cell_type": "code",
      "metadata": {
        "colab": {
          "base_uri": "https://localhost:8080/"
        },
        "id": "jjo9BW2Y4i52",
        "outputId": "67973bbf-edee-4dd3-af56-5cee97854e77"
      },
      "source": [
        "model.compile(optimizer=tf.optimizers.RMSprop(lr=1e-04), loss=tf.losses.categorical_crossentropy, metrics=['accuracy'])\n",
        "history = model.fit(train_generator, epochs=25, steps_per_epoch=20, validation_data = validation_generator, verbose = 1, validation_steps=3)"
      ],
      "execution_count": null,
      "outputs": [
        {
          "output_type": "stream",
          "text": [
            "Epoch 1/25\n",
            "20/20 [==============================] - 27s 967ms/step - loss: 1.0909 - accuracy: 0.3742 - val_loss: 1.0068 - val_accuracy: 0.6129\n",
            "Epoch 2/25\n",
            "20/20 [==============================] - 19s 961ms/step - loss: 1.0127 - accuracy: 0.5130 - val_loss: 0.8919 - val_accuracy: 0.7312\n",
            "Epoch 3/25\n",
            "20/20 [==============================] - 19s 954ms/step - loss: 0.9320 - accuracy: 0.5602 - val_loss: 0.7649 - val_accuracy: 0.5565\n",
            "Epoch 4/25\n",
            "20/20 [==============================] - 19s 948ms/step - loss: 0.8752 - accuracy: 0.6035 - val_loss: 0.6031 - val_accuracy: 0.8065\n",
            "Epoch 5/25\n",
            "20/20 [==============================] - 19s 949ms/step - loss: 0.7391 - accuracy: 0.6884 - val_loss: 0.6548 - val_accuracy: 0.6183\n",
            "Epoch 6/25\n",
            "20/20 [==============================] - 19s 954ms/step - loss: 0.6948 - accuracy: 0.7037 - val_loss: 0.4795 - val_accuracy: 0.8844\n",
            "Epoch 7/25\n",
            "20/20 [==============================] - 19s 944ms/step - loss: 0.6557 - accuracy: 0.7159 - val_loss: 0.4081 - val_accuracy: 0.8226\n",
            "Epoch 8/25\n",
            "20/20 [==============================] - 19s 945ms/step - loss: 0.6045 - accuracy: 0.7354 - val_loss: 0.3036 - val_accuracy: 0.9624\n",
            "Epoch 9/25\n",
            "20/20 [==============================] - 19s 947ms/step - loss: 0.5311 - accuracy: 0.7992 - val_loss: 0.3508 - val_accuracy: 0.8280\n",
            "Epoch 10/25\n",
            "20/20 [==============================] - 19s 963ms/step - loss: 0.5189 - accuracy: 0.7928 - val_loss: 0.2593 - val_accuracy: 0.9435\n",
            "Epoch 11/25\n",
            "20/20 [==============================] - 19s 952ms/step - loss: 0.4575 - accuracy: 0.8413 - val_loss: 0.3933 - val_accuracy: 0.7849\n",
            "Epoch 12/25\n",
            "20/20 [==============================] - 19s 948ms/step - loss: 0.4427 - accuracy: 0.8148 - val_loss: 0.1884 - val_accuracy: 0.9651\n",
            "Epoch 13/25\n",
            " 5/20 [======>.......................] - ETA: 13s - loss: 0.3684 - accuracy: 0.8580"
          ],
          "name": "stdout"
        }
      ]
    },
    {
      "cell_type": "code",
      "metadata": {
        "id": "eMHIu74x50ye"
      },
      "source": [
        "import matplotlib.pyplot as plt\n",
        "acc = history.history['accuracy']\n",
        "val_acc = history.history['val_accuracy']\n",
        "loss = history.history['loss']\n",
        "val_loss = history.hisory['val_loss']\n",
        "\n",
        "epochs = range(len(acc))\n",
        "plt.plot(epochs, acc, 'r', label='Training accuracy')\n",
        "plt.plot(epochs, val_acc, 'r', label='Validation accuracy')\n",
        "plt.title('Training and Validation accuracy')\n",
        "plt.legend()\n",
        "plt.figure()\n",
        "\n",
        "plt.plot(epochs, loss, 'r', label='Training loss')\n",
        "plt.plot(epochs, val_loss, 'r', label='Validation loss')\n",
        "plt.title('Training and Validation loss')\n",
        "plt.legend()\n",
        "plt.show()"
      ],
      "execution_count": null,
      "outputs": []
    }
  ]
}