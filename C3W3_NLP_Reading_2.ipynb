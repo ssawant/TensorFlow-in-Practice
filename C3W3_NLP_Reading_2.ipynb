{
  "nbformat": 4,
  "nbformat_minor": 0,
  "metadata": {
    "colab": {
      "name": "C3W3_NLP_Reading_2.ipynb",
      "provenance": [],
      "authorship_tag": "ABX9TyMP7VWG0haNsQEa0ZYNbFuk",
      "include_colab_link": true
    },
    "kernelspec": {
      "name": "python3",
      "display_name": "Python 3"
    }
  },
  "cells": [
    {
      "cell_type": "markdown",
      "metadata": {
        "id": "view-in-github",
        "colab_type": "text"
      },
      "source": [
        "<a href=\"https://colab.research.google.com/github/ssawant/TensorFlow-in-Practice/blob/main/C3W3_NLP_Reading_2.ipynb\" target=\"_parent\"><img src=\"https://colab.research.google.com/assets/colab-badge.svg\" alt=\"Open In Colab\"/></a>"
      ]
    },
    {
      "cell_type": "code",
      "metadata": {
        "colab": {
          "base_uri": "https://localhost:8080/"
        },
        "id": "bYL6VueuhJUc",
        "outputId": "b26fb389-d17e-4907-a5a8-2bbbbcebe210"
      },
      "source": [
        "import tensorflow as tf\n",
        "print(tf.__version__)"
      ],
      "execution_count": 1,
      "outputs": [
        {
          "output_type": "stream",
          "text": [
            "2.4.0\n"
          ],
          "name": "stdout"
        }
      ]
    },
    {
      "cell_type": "code",
      "metadata": {
        "id": "ree1rT_Zh3vp"
      },
      "source": [
        "import json\n",
        "from tensorflow.keras.preprocessing.text import Tokenizer\n",
        "from tensorflow.keras.preprocessing.sequence import pad_sequences"
      ],
      "execution_count": 5,
      "outputs": []
    },
    {
      "cell_type": "code",
      "metadata": {
        "id": "LJ8KxcIPiFgD"
      },
      "source": [
        "vocab_size = 10000\n",
        "emdedding_dim = 16\n",
        "max_length = 100\n",
        "trunc_type = 'post'\n",
        "padding_type = 'post'\n",
        "oov_tok = \"<OOV>\"\n",
        "training_size = 20000"
      ],
      "execution_count": 12,
      "outputs": []
    },
    {
      "cell_type": "code",
      "metadata": {
        "colab": {
          "base_uri": "https://localhost:8080/"
        },
        "id": "0OObCeyTiT1a",
        "outputId": "31bb8b00-347a-4fb7-d29f-dfea72be314a"
      },
      "source": [
        "!wget --no-check-certificate \\\n",
        "    https://storage.googleapis.com/laurencemoroney-blog.appspot.com/sarcasm.json \\\n",
        "    -O /tmp/sarcasm.json"
      ],
      "execution_count": 3,
      "outputs": [
        {
          "output_type": "stream",
          "text": [
            "--2020-12-26 14:52:28--  https://storage.googleapis.com/laurencemoroney-blog.appspot.com/sarcasm.json\n",
            "Resolving storage.googleapis.com (storage.googleapis.com)... 64.233.187.128, 64.233.189.128, 108.177.97.128, ...\n",
            "Connecting to storage.googleapis.com (storage.googleapis.com)|64.233.187.128|:443... connected.\n",
            "HTTP request sent, awaiting response... 200 OK\n",
            "Length: 5643545 (5.4M) [application/json]\n",
            "Saving to: ‘/tmp/sarcasm.json’\n",
            "\n",
            "/tmp/sarcasm.json   100%[===================>]   5.38M  --.-KB/s    in 0.06s   \n",
            "\n",
            "2020-12-26 14:52:28 (88.2 MB/s) - ‘/tmp/sarcasm.json’ saved [5643545/5643545]\n",
            "\n"
          ],
          "name": "stdout"
        }
      ]
    },
    {
      "cell_type": "code",
      "metadata": {
        "id": "tQAqignOiWid"
      },
      "source": [
        "with open(\"/tmp/sarcasm.json\", 'r') as f:\n",
        "  datastore = json.load(f)\n",
        "\n",
        "# data format: \n",
        "# {'article_link': 'https://www.huffingtonpost.com/entry/versace-black-code_us_5861fbefe4b0de3a08f600d5', \n",
        "# 'headline': \"former versace store clerk sues over secret 'black code' for minority shoppers\", \n",
        "# 'is_sarcastic': 0}\n",
        "\n",
        "sentences = []\n",
        "labels = []\n",
        "\n",
        "for item in datastore:\n",
        "  sentences.append(item['headline'])\n",
        "  labels.append(item['is_sarcastic'])"
      ],
      "execution_count": 10,
      "outputs": []
    },
    {
      "cell_type": "code",
      "metadata": {
        "id": "LF6kiFr2jyOO"
      },
      "source": [
        "training_sentences = sentences[0:training_size]\n",
        "testing_sentences = sentences[training_size:]\n",
        "training_labels = labels[0:training_size]\n",
        "testing_labels = labels[training_size:]"
      ],
      "execution_count": 11,
      "outputs": []
    },
    {
      "cell_type": "code",
      "metadata": {
        "id": "A4mbCxb6kRFx"
      },
      "source": [
        "tokenizer = Tokenizer(num_words=vocab_size, oov_token=oov_tok)\n",
        "tokenizer.fit_on_texts(training_sentences)\n",
        "\n",
        "word_index = tokenizer.word_index\n",
        "\n",
        "training_sequences = tokenizer.texts_to_sequences(training_sentences)\n",
        "training_padded = pad_sequences(training_sequences, maxlen=max_length, padding=padding_type, truncating=trunc_type)\n",
        "\n",
        "testing_sequences = tokenizer.texts_to_sequences(testing_sentences)\n",
        "testing_padded = pad_sequences(testing_sequences, maxlen=max_length, padding=padding_type, truncating=trunc_type)"
      ],
      "execution_count": 15,
      "outputs": []
    },
    {
      "cell_type": "code",
      "metadata": {
        "id": "lySEXdK-lz5c"
      },
      "source": [
        "import numpy as np\n",
        "training_padded = np.array(training_padded)\n",
        "training_labels = np.array(training_labels)\n",
        "testing_padded = np.array(testing_padded)\n",
        "testing_labels = np.array(testing_labels)"
      ],
      "execution_count": 16,
      "outputs": []
    },
    {
      "cell_type": "code",
      "metadata": {
        "colab": {
          "base_uri": "https://localhost:8080/"
        },
        "id": "KXrJSQ3AmwFi",
        "outputId": "f2f88f40-bdd5-45f2-db78-e4b19ea857bc"
      },
      "source": [
        "model = tf.keras.Sequential([\n",
        "  tf.keras.layers.Embedding(vocab_size, emdedding_dim, input_length=max_length),\n",
        "  tf.keras.layers.Flatten(),\n",
        "  tf.keras.layers.Dense(24, activation=tf.nn.relu),\n",
        "  tf.keras.layers.Dense(1, activation=tf.nn.sigmoid)\n",
        "])\n",
        "\n",
        "model.compile(loss=tf.losses.binary_crossentropy, optimizer='adam', metrics=['accuracy'])\n",
        "model.summary()"
      ],
      "execution_count": 17,
      "outputs": [
        {
          "output_type": "stream",
          "text": [
            "Model: \"sequential\"\n",
            "_________________________________________________________________\n",
            "Layer (type)                 Output Shape              Param #   \n",
            "=================================================================\n",
            "embedding (Embedding)        (None, 100, 16)           160000    \n",
            "_________________________________________________________________\n",
            "flatten (Flatten)            (None, 1600)              0         \n",
            "_________________________________________________________________\n",
            "dense (Dense)                (None, 24)                38424     \n",
            "_________________________________________________________________\n",
            "dense_1 (Dense)              (None, 1)                 25        \n",
            "=================================================================\n",
            "Total params: 198,449\n",
            "Trainable params: 198,449\n",
            "Non-trainable params: 0\n",
            "_________________________________________________________________\n"
          ],
          "name": "stdout"
        }
      ]
    },
    {
      "cell_type": "code",
      "metadata": {
        "colab": {
          "base_uri": "https://localhost:8080/"
        },
        "id": "_Pqxcy7Cnmcl",
        "outputId": "1b18218d-5811-4f37-d89c-52d09a0417a8"
      },
      "source": [
        "num_epochs = 30\n",
        "history = model.fit(training_padded, training_labels, epochs=num_epochs, validation_data=(testing_padded, testing_labels), verbose=2)"
      ],
      "execution_count": 18,
      "outputs": [
        {
          "output_type": "stream",
          "text": [
            "Epoch 1/30\n",
            "625/625 - 3s - loss: 0.4808 - accuracy: 0.7401 - val_loss: 0.3222 - val_accuracy: 0.8639\n",
            "Epoch 2/30\n",
            "625/625 - 2s - loss: 0.2154 - accuracy: 0.9156 - val_loss: 0.3172 - val_accuracy: 0.8630\n",
            "Epoch 3/30\n",
            "625/625 - 2s - loss: 0.1208 - accuracy: 0.9603 - val_loss: 0.3444 - val_accuracy: 0.8645\n",
            "Epoch 4/30\n",
            "625/625 - 2s - loss: 0.0658 - accuracy: 0.9800 - val_loss: 0.4032 - val_accuracy: 0.8630\n",
            "Epoch 5/30\n",
            "625/625 - 2s - loss: 0.0331 - accuracy: 0.9923 - val_loss: 0.4607 - val_accuracy: 0.8580\n",
            "Epoch 6/30\n",
            "625/625 - 2s - loss: 0.0161 - accuracy: 0.9976 - val_loss: 0.5157 - val_accuracy: 0.8572\n",
            "Epoch 7/30\n",
            "625/625 - 2s - loss: 0.0092 - accuracy: 0.9987 - val_loss: 0.5623 - val_accuracy: 0.8553\n",
            "Epoch 8/30\n",
            "625/625 - 2s - loss: 0.0059 - accuracy: 0.9990 - val_loss: 0.6134 - val_accuracy: 0.8539\n",
            "Epoch 9/30\n",
            "625/625 - 2s - loss: 0.0040 - accuracy: 0.9994 - val_loss: 0.6573 - val_accuracy: 0.8526\n",
            "Epoch 10/30\n",
            "625/625 - 2s - loss: 0.0023 - accuracy: 0.9994 - val_loss: 0.7066 - val_accuracy: 0.8535\n",
            "Epoch 11/30\n",
            "625/625 - 2s - loss: 0.0018 - accuracy: 0.9995 - val_loss: 0.7542 - val_accuracy: 0.8480\n",
            "Epoch 12/30\n",
            "625/625 - 2s - loss: 0.0012 - accuracy: 0.9998 - val_loss: 0.7727 - val_accuracy: 0.8523\n",
            "Epoch 13/30\n",
            "625/625 - 2s - loss: 0.0014 - accuracy: 0.9997 - val_loss: 0.8093 - val_accuracy: 0.8493\n",
            "Epoch 14/30\n",
            "625/625 - 2s - loss: 0.0014 - accuracy: 0.9997 - val_loss: 0.9185 - val_accuracy: 0.8420\n",
            "Epoch 15/30\n",
            "625/625 - 2s - loss: 0.0015 - accuracy: 0.9995 - val_loss: 0.8859 - val_accuracy: 0.8505\n",
            "Epoch 16/30\n",
            "625/625 - 2s - loss: 9.1082e-04 - accuracy: 0.9996 - val_loss: 1.0648 - val_accuracy: 0.8307\n",
            "Epoch 17/30\n",
            "625/625 - 2s - loss: 8.1720e-04 - accuracy: 0.9998 - val_loss: 0.9437 - val_accuracy: 0.8414\n",
            "Epoch 18/30\n",
            "625/625 - 2s - loss: 7.8382e-04 - accuracy: 0.9997 - val_loss: 0.9772 - val_accuracy: 0.8460\n",
            "Epoch 19/30\n",
            "625/625 - 2s - loss: 7.5107e-04 - accuracy: 0.9998 - val_loss: 0.9740 - val_accuracy: 0.8456\n",
            "Epoch 20/30\n",
            "625/625 - 2s - loss: 8.4691e-04 - accuracy: 0.9997 - val_loss: 1.0182 - val_accuracy: 0.8395\n",
            "Epoch 21/30\n",
            "625/625 - 2s - loss: 8.4861e-04 - accuracy: 0.9996 - val_loss: 1.0773 - val_accuracy: 0.8433\n",
            "Epoch 22/30\n",
            "625/625 - 2s - loss: 6.5796e-04 - accuracy: 0.9998 - val_loss: 1.0898 - val_accuracy: 0.8416\n",
            "Epoch 23/30\n",
            "625/625 - 2s - loss: 8.1079e-04 - accuracy: 0.9996 - val_loss: 1.1165 - val_accuracy: 0.8436\n",
            "Epoch 24/30\n",
            "625/625 - 2s - loss: 8.4891e-04 - accuracy: 0.9997 - val_loss: 1.1496 - val_accuracy: 0.8419\n",
            "Epoch 25/30\n",
            "625/625 - 2s - loss: 9.1794e-04 - accuracy: 0.9998 - val_loss: 1.1145 - val_accuracy: 0.8411\n",
            "Epoch 26/30\n",
            "625/625 - 2s - loss: 8.0039e-04 - accuracy: 0.9997 - val_loss: 1.1960 - val_accuracy: 0.8411\n",
            "Epoch 27/30\n",
            "625/625 - 2s - loss: 6.3150e-04 - accuracy: 0.9998 - val_loss: 1.2173 - val_accuracy: 0.8413\n",
            "Epoch 28/30\n",
            "625/625 - 2s - loss: 9.3596e-04 - accuracy: 0.9997 - val_loss: 1.1987 - val_accuracy: 0.8392\n",
            "Epoch 29/30\n",
            "625/625 - 2s - loss: 7.9905e-04 - accuracy: 0.9997 - val_loss: 1.1983 - val_accuracy: 0.8423\n",
            "Epoch 30/30\n",
            "625/625 - 2s - loss: 6.8493e-04 - accuracy: 0.9995 - val_loss: 1.2267 - val_accuracy: 0.8413\n"
          ],
          "name": "stdout"
        }
      ]
    },
    {
      "cell_type": "code",
      "metadata": {
        "colab": {
          "base_uri": "https://localhost:8080/",
          "height": 513
        },
        "id": "39r8B8Ytosej",
        "outputId": "d520e196-0122-4186-fba4-3a5987a08adb"
      },
      "source": [
        "import matplotlib.pyplot as plt\n",
        "\n",
        "def plot_graphs(history, string):\n",
        "  plt.plot(history.history[string])\n",
        "  plt.plot(history.history['val_'+ string])\n",
        "  plt.xlabel=(\"Epochs\")\n",
        "  plt.ylabel(string)\n",
        "  plt.legend([string, 'val_'+string])\n",
        "  plt.show()\n",
        "\n",
        "plot_graphs(history, \"accuracy\")\n",
        "plot_graphs(history, \"loss\")"
      ],
      "execution_count": 19,
      "outputs": [
        {
          "output_type": "display_data",
          "data": {
            "image/png": "[encoded data removed]",
            "text/plain": [
              "<Figure size 432x288 with 1 Axes>"
            ]
          },
          "metadata": {
            "tags": [],
            "needs_background": "light"
          }
        },
        {
          "output_type": "display_data",
          "data": {
            "image/png": "[encoded data removed]",
            "text/plain": [
              "<Figure size 432x288 with 1 Axes>"
            ]
          },
          "metadata": {
            "tags": [],
            "needs_background": "light"
          }
        }
      ]
    },
    {
      "cell_type": "code",
      "metadata": {
        "colab": {
          "base_uri": "https://localhost:8080/"
        },
        "id": "rl5hA5RRpZ0M",
        "outputId": "b19b34c0-da8d-438d-bef3-87a3227b90d5"
      },
      "source": [
        "sentence = [\"grandad starting to fear ghost in the house might be real\", \"friends season finale showing this weekend\"]\n",
        "sequences = tokenizer.texts_to_sequences(sentences)\n",
        "padded = pad_sequences(sequences, maxlen=max_length, padding=padding_type, truncating=trunc_type)\n",
        "print(model.predict(padded))"
      ],
      "execution_count": 20,
      "outputs": [
        {
          "output_type": "stream",
          "text": [
            "[[7.26197277e-06]\n",
            " [4.38271974e-10]\n",
            " [9.99976158e-01]\n",
            " ...\n",
            " [1.38766145e-05]\n",
            " [1.06110907e-04]\n",
            " [1.38816222e-10]]\n"
          ],
          "name": "stdout"
        }
      ]
    }
  ]
}