{
  "nbformat": 4,
  "nbformat_minor": 0,
  "metadata": {
    "colab": {
      "name": "C2W3_Convolution_Neural_Network_transfer_learning_dropout_Dogs_vs_Cats.ipynb",
      "provenance": [],
      "authorship_tag": "ABX9TyNpj8mh84dUNcF4PnWLu+/X",
      "include_colab_link": true
    },
    "kernelspec": {
      "name": "python3",
      "display_name": "Python 3"
    }
  },
  "cells": [
    {
      "cell_type": "markdown",
      "metadata": {
        "id": "view-in-github",
        "colab_type": "text"
      },
      "source": [
        "<a href=\"https://colab.research.google.com/github/ssawant/TensorFlow-in-Practice/blob/main/C2W3_Convolution_Neural_Network_transfer_learning_dropout_Dogs_vs_Cats.ipynb\" target=\"_parent\"><img src=\"https://colab.research.google.com/assets/colab-badge.svg\" alt=\"Open In Colab\"/></a>"
      ]
    },
    {
      "cell_type": "code",
      "metadata": {
        "id": "i08cW-tcM1Yw",
        "colab": {
          "base_uri": "https://localhost:8080/"
        },
        "outputId": "f14b603e-a8a5-4c19-8b76-ea5ea0abd3e1"
      },
      "source": [
        "import tensorflow as tf\n",
        "print(tf.__version__)"
      ],
      "execution_count": 1,
      "outputs": [
        {
          "output_type": "stream",
          "text": [
            "2.4.0\n"
          ],
          "name": "stdout"
        }
      ]
    },
    {
      "cell_type": "code",
      "metadata": {
        "colab": {
          "base_uri": "https://localhost:8080/"
        },
        "id": "Q7QlMvVZUMHq",
        "outputId": "97071743-cb90-42eb-c0c6-c37800f18dd0"
      },
      "source": [
        "import os\n",
        "from tensorflow.keras import Model, layers\n",
        "\n",
        "!wget --no-check-certificate \\\n",
        "    https://storage.googleapis.com/mledu-datasets/inception_v3_weights_tf_dim_ordering_tf_kernels_notop.h5 \\\n",
        "    -O /tmp/inception_v3_weights_tf_dim_ordering_tf_kernels_notop.h5\n",
        "\n",
        "from tensorflow.keras.applications.inception_v3 import InceptionV3\n",
        "\n",
        "local_weight_file = '/tmp/inception_v3_weights_tf_dim_ordering_tf_kernels_notop.h5'\n",
        "\n",
        "pre_trained_model = InceptionV3(input_shape = (150, 150, 3), include_top = False, weights= None)\n",
        "\n",
        "pre_trained_model.load_weights(local_weight_file)\n",
        "\n",
        "for layer in pre_trained_model.layers:\n",
        "  layer.trainable = False\n",
        "\n",
        "# pre_trained_model.summary()\n",
        "last_layer = pre_trained_model.get_layer('mixed10')\n",
        "print(f'last layer output shape {last_layer.output_shape}')\n",
        "last_output = last_layer.output\n"
      ],
      "execution_count": 7,
      "outputs": [
        {
          "output_type": "stream",
          "text": [
            "--2020-12-23 02:21:40--  https://storage.googleapis.com/mledu-datasets/inception_v3_weights_tf_dim_ordering_tf_kernels_notop.h5\n",
            "Resolving storage.googleapis.com (storage.googleapis.com)... 64.233.191.128, 172.217.212.128, 172.217.214.128, ...\n",
            "Connecting to storage.googleapis.com (storage.googleapis.com)|64.233.191.128|:443... connected.\n",
            "HTTP request sent, awaiting response... 200 OK\n",
            "Length: 87910968 (84M) [application/x-hdf]\n",
            "Saving to: ‘/tmp/inception_v3_weights_tf_dim_ordering_tf_kernels_notop.h5’\n",
            "\n",
            "/tmp/inception_v3_w 100%[===================>]  83.84M   122MB/s    in 0.7s    \n",
            "\n",
            "2020-12-23 02:21:41 (122 MB/s) - ‘/tmp/inception_v3_weights_tf_dim_ordering_tf_kernels_notop.h5’ saved [87910968/87910968]\n",
            "\n",
            "last layer output shape (None, 3, 3, 2048)\n"
          ],
          "name": "stdout"
        }
      ]
    },
    {
      "cell_type": "code",
      "metadata": {
        "id": "JFjs6IAAYoiC"
      },
      "source": [
        "x = layers.Flatten()(last_output)\n",
        "x = layers.Dense(1024, activation=tf.nn.relu)(x)\n",
        "# Add dropout rate of 0.2\n",
        "x = layers.Dropout(0.2)(x)\n",
        "x = layers.Dense(1, activation=tf.nn.sigmoid)(x)\n",
        "\n",
        "model = Model(pre_trained_model.input, x)\n",
        "\n",
        "model.compile(optimizer=tf.optimizers.RMSprop(lr=1e-4), loss=tf.losses.binary_crossentropy, metrics=['accuracy'])"
      ],
      "execution_count": 9,
      "outputs": []
    },
    {
      "cell_type": "code",
      "metadata": {
        "colab": {
          "base_uri": "https://localhost:8080/"
        },
        "id": "clZaVUsJaWpp",
        "outputId": "eebf0431-cdd9-48ba-eb33-42bf4948d8c0"
      },
      "source": [
        "!wget --no-check-certificate \\\n",
        "        https://storage.googleapis.com/mledu-datasets/cats_and_dogs_filtered.zip \\\n",
        "       -O /tmp/cats_and_dogs_filtered.zip\n",
        "\n",
        "from tensorflow.keras.preprocessing.image import ImageDataGenerator\n",
        "\n",
        "import os, zipfile\n",
        "\n",
        "local_zip = '/tmp/cats_and_dogs_filtered.zip'\n",
        "zip_ref = zipfile.ZipFile(local_zip, 'r')\n",
        "zip_ref.extractall('/tmp')\n",
        "zip_ref.close()\n",
        "\n",
        "base_dir = '/tmp/cats_and_dogs_filtered'\n",
        "train_dir = os.path.join(base_dir, 'train')\n",
        "validation_dir = os.path.join(base_dir, 'validation')\n",
        "\n",
        "train_cat_dir = os.path.join(train_dir, 'cats')\n",
        "train_dog_dir = os.path.join(train_dir, 'dogs')\n",
        "validation_cat_dir = os.path.join(validation_dir, 'cats') \n",
        "validation_dog_dir = os.path.join(validation_dir, 'dogs')\n",
        "\n",
        "train_datagen = ImageDataGenerator(rescale=1./255.,\n",
        "                                   rotation_range=40,\n",
        "                                   width_shift_range = 0.2,\n",
        "                                   height_shift_range = 0.2,\n",
        "                                   shear_range = 0.2,\n",
        "                                   zoom_range =0.2,\n",
        "                                   horizontal_flip = True)\n",
        "test_datagen = ImageDataGenerator(rescale=1./255.)\n",
        "\n",
        "train_generator = train_datagen.flow_from_directory(train_dir, batch_size = 20, class_mode = 'binary', target_size =(150,150))\n",
        "test_generator = test_datagen.flow_from_directory(validation_dir, batch_size = 20, class_mode = 'binary', target_size =(150,150))"
      ],
      "execution_count": 14,
      "outputs": [
        {
          "output_type": "stream",
          "text": [
            "--2020-12-23 02:43:32--  https://storage.googleapis.com/mledu-datasets/cats_and_dogs_filtered.zip\n",
            "Resolving storage.googleapis.com (storage.googleapis.com)... 142.250.1.128, 142.250.128.128, 74.125.132.128, ...\n",
            "Connecting to storage.googleapis.com (storage.googleapis.com)|142.250.1.128|:443... connected.\n",
            "HTTP request sent, awaiting response... 200 OK\n",
            "Length: 68606236 (65M) [application/zip]\n",
            "Saving to: ‘/tmp/cats_and_dogs_filtered.zip’\n",
            "\n",
            "/tmp/cats_and_dogs_ 100%[===================>]  65.43M   324MB/s    in 0.2s    \n",
            "\n",
            "2020-12-23 02:43:32 (324 MB/s) - ‘/tmp/cats_and_dogs_filtered.zip’ saved [68606236/68606236]\n",
            "\n",
            "Found 2000 images belonging to 2 classes.\n",
            "Found 1000 images belonging to 2 classes.\n"
          ],
          "name": "stdout"
        }
      ]
    },
    {
      "cell_type": "code",
      "metadata": {
        "colab": {
          "base_uri": "https://localhost:8080/"
        },
        "id": "8P-AI_ZLexW5",
        "outputId": "94994dee-aab8-49d8-8e88-cc883cd7cebf"
      },
      "source": [
        "history = model.fit(train_generator, validation_data=test_generator, steps_per_epoch=100,epochs=20,validation_steps=50,verbose=2)"
      ],
      "execution_count": 16,
      "outputs": [
        {
          "output_type": "stream",
          "text": [
            "Epoch 1/20\n",
            "100/100 - 149s - loss: 1.2816 - accuracy: 0.8360 - val_loss: 0.3157 - val_accuracy: 0.9200\n",
            "Epoch 2/20\n",
            "100/100 - 144s - loss: 0.4529 - accuracy: 0.8950 - val_loss: 0.2558 - val_accuracy: 0.9350\n",
            "Epoch 3/20\n",
            "100/100 - 144s - loss: 0.3843 - accuracy: 0.8935 - val_loss: 0.1519 - val_accuracy: 0.9630\n",
            "Epoch 4/20\n",
            "100/100 - 143s - loss: 0.3325 - accuracy: 0.9065 - val_loss: 0.1727 - val_accuracy: 0.9510\n",
            "Epoch 5/20\n",
            "100/100 - 144s - loss: 0.3546 - accuracy: 0.9155 - val_loss: 0.2057 - val_accuracy: 0.9400\n",
            "Epoch 6/20\n",
            "100/100 - 144s - loss: 0.3120 - accuracy: 0.9190 - val_loss: 0.1226 - val_accuracy: 0.9590\n",
            "Epoch 7/20\n",
            "100/100 - 144s - loss: 0.2937 - accuracy: 0.9140 - val_loss: 0.1312 - val_accuracy: 0.9630\n",
            "Epoch 8/20\n",
            "100/100 - 144s - loss: 0.3320 - accuracy: 0.9170 - val_loss: 0.1302 - val_accuracy: 0.9570\n",
            "Epoch 9/20\n",
            "100/100 - 143s - loss: 0.2741 - accuracy: 0.9255 - val_loss: 0.1301 - val_accuracy: 0.9590\n",
            "Epoch 10/20\n",
            "100/100 - 143s - loss: 0.2821 - accuracy: 0.9170 - val_loss: 0.1228 - val_accuracy: 0.9670\n",
            "Epoch 11/20\n",
            "100/100 - 144s - loss: 0.3007 - accuracy: 0.9225 - val_loss: 0.1587 - val_accuracy: 0.9560\n",
            "Epoch 12/20\n",
            "100/100 - 144s - loss: 0.2480 - accuracy: 0.9365 - val_loss: 0.1335 - val_accuracy: 0.9580\n",
            "Epoch 13/20\n",
            "100/100 - 144s - loss: 0.2347 - accuracy: 0.9335 - val_loss: 0.1947 - val_accuracy: 0.9520\n",
            "Epoch 14/20\n",
            "100/100 - 148s - loss: 0.2826 - accuracy: 0.9290 - val_loss: 0.1397 - val_accuracy: 0.9570\n",
            "Epoch 15/20\n",
            "100/100 - 144s - loss: 0.2176 - accuracy: 0.9420 - val_loss: 0.1726 - val_accuracy: 0.9580\n",
            "Epoch 16/20\n",
            "100/100 - 143s - loss: 0.2355 - accuracy: 0.9370 - val_loss: 0.1939 - val_accuracy: 0.9540\n",
            "Epoch 17/20\n",
            "100/100 - 144s - loss: 0.2702 - accuracy: 0.9315 - val_loss: 0.2214 - val_accuracy: 0.9470\n",
            "Epoch 18/20\n",
            "100/100 - 143s - loss: 0.2326 - accuracy: 0.9340 - val_loss: 0.1595 - val_accuracy: 0.9580\n",
            "Epoch 19/20\n",
            "100/100 - 143s - loss: 0.2741 - accuracy: 0.9325 - val_loss: 0.2769 - val_accuracy: 0.9350\n",
            "Epoch 20/20\n",
            "100/100 - 144s - loss: 0.2267 - accuracy: 0.9420 - val_loss: 0.1353 - val_accuracy: 0.9610\n"
          ],
          "name": "stdout"
        }
      ]
    },
    {
      "cell_type": "code",
      "metadata": {
        "colab": {
          "base_uri": "https://localhost:8080/",
          "height": 545
        },
        "id": "PBM9iIJejN1c",
        "outputId": "7e3a7049-809f-4cce-b1cc-1a4db8c1af0e"
      },
      "source": [
        "import matplotlib.pyplot as plt\n",
        "\n",
        "acc = history.history['accuracy']\n",
        "val_acc = history.history['val_accuracy']\n",
        "loss = history.history['loss']\n",
        "val_loss = history.history['val_loss']\n",
        "\n",
        "epochs = range(len(acc))\n",
        "plt.plot(epochs,acc, 'r', label='Training accuracy')\n",
        "plt.plot(epochs,val_acc, 'b', label='Validation accuracy')\n",
        "plt.title('Training and Valiation accuracy')\n",
        "plt.legend()\n",
        "plt.figure()\n",
        "\n",
        "plt.plot(epochs,loss, 'r', label='Training loss')\n",
        "plt.plot(epochs,val_loss, 'b', label='Validation loss')\n",
        "plt.title('Training and Valiation loss')\n",
        "plt.legend()\n",
        "\n",
        "plt.show()\n"
      ],
      "execution_count": 19,
      "outputs": [
        {
          "output_type": "display_data",
          "data": {
            "image/png": "[encoded data removed]",
            "text/plain": [
              "<Figure size 432x288 with 1 Axes>"
            ]
          },
          "metadata": {
            "tags": [],
            "needs_background": "light"
          }
        },
        {
          "output_type": "display_data",
          "data": {
            "image/png": "[encoded data removed]",
            "text/plain": [
              "<Figure size 432x288 with 1 Axes>"
            ]
          },
          "metadata": {
            "tags": [],
            "needs_background": "light"
          }
        }
      ]
    }
  ]
}